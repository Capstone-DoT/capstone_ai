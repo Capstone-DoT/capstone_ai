{
 "cells": [
  {
   "cell_type": "markdown",
   "id": "9833ff7f",
   "metadata": {},
   "source": [
    "# import"
   ]
  },
  {
   "cell_type": "code",
   "execution_count": 100,
   "id": "13ef4290",
   "metadata": {},
   "outputs": [],
   "source": [
    "import pandas as pd\n",
    "import numpy as np\n",
    "import random\n",
    "import matplotlib.pyplot as plt\n",
    "from sklearn.model_selection import train_test_split\n",
    "import warnings\n",
    "warnings.filterwarnings(action='ignore', category=UserWarning, module='gensim')\n",
    "import gensim\n",
    "assert gensim.models.word2vec.FAST_VERSION > -1\n",
    "from gensim.models import Word2Vec\n",
    "import datetime\n",
    "import requests\n",
    "import re\n",
    "from bs4 import BeautifulSoup"
   ]
  },
  {
   "cell_type": "markdown",
   "id": "0785b54d",
   "metadata": {},
   "source": [
    "# Data 준비하기"
   ]
  },
  {
   "cell_type": "code",
   "execution_count": 101,
   "id": "da438db3",
   "metadata": {
    "scrolled": false
   },
   "outputs": [
    {
     "data": {
      "text/html": [
       "<div>\n",
       "<style scoped>\n",
       "    .dataframe tbody tr th:only-of-type {\n",
       "        vertical-align: middle;\n",
       "    }\n",
       "\n",
       "    .dataframe tbody tr th {\n",
       "        vertical-align: top;\n",
       "    }\n",
       "\n",
       "    .dataframe thead th {\n",
       "        text-align: right;\n",
       "    }\n",
       "</style>\n",
       "<table border=\"1\" class=\"dataframe\">\n",
       "  <thead>\n",
       "    <tr style=\"text-align: right;\">\n",
       "      <th></th>\n",
       "      <th>Unnamed: 0</th>\n",
       "      <th>idx</th>\n",
       "      <th>company_name</th>\n",
       "      <th>interests</th>\n",
       "      <th>경영컨설팅마케팅</th>\n",
       "      <th>경제금융</th>\n",
       "      <th>과학공학기술IT</th>\n",
       "      <th>교육</th>\n",
       "      <th>문화역사</th>\n",
       "      <th>뷰티미용화장품</th>\n",
       "      <th>...</th>\n",
       "      <th>우대역량_기타</th>\n",
       "      <th>취재/인터뷰/기사 경험</th>\n",
       "      <th>컴퓨터 활용능력</th>\n",
       "      <th>콘텐츠 기획/제작 경험</th>\n",
       "      <th>타 대외활동 경험</th>\n",
       "      <th>파워블로거/SNS</th>\n",
       "      <th>행사 기획 경험</th>\n",
       "      <th>휴학 중/시간 투자 가능</th>\n",
       "      <th>모집 인원</th>\n",
       "      <th>모집인원규모</th>\n",
       "    </tr>\n",
       "  </thead>\n",
       "  <tbody>\n",
       "    <tr>\n",
       "      <th>0</th>\n",
       "      <td>0</td>\n",
       "      <td>53987</td>\n",
       "      <td>스카이(SKY)</td>\n",
       "      <td>과학공학기술IT</td>\n",
       "      <td>0</td>\n",
       "      <td>0</td>\n",
       "      <td>1</td>\n",
       "      <td>0</td>\n",
       "      <td>0</td>\n",
       "      <td>0</td>\n",
       "      <td>...</td>\n",
       "      <td>0</td>\n",
       "      <td>1</td>\n",
       "      <td>0</td>\n",
       "      <td>1</td>\n",
       "      <td>1</td>\n",
       "      <td>1</td>\n",
       "      <td>0</td>\n",
       "      <td>0</td>\n",
       "      <td>99</td>\n",
       "      <td>중</td>\n",
       "    </tr>\n",
       "    <tr>\n",
       "      <th>1</th>\n",
       "      <td>1</td>\n",
       "      <td>53989</td>\n",
       "      <td>서주제과(주)</td>\n",
       "      <td>요리식품</td>\n",
       "      <td>0</td>\n",
       "      <td>0</td>\n",
       "      <td>0</td>\n",
       "      <td>0</td>\n",
       "      <td>0</td>\n",
       "      <td>0</td>\n",
       "      <td>...</td>\n",
       "      <td>0</td>\n",
       "      <td>0</td>\n",
       "      <td>0</td>\n",
       "      <td>0</td>\n",
       "      <td>0</td>\n",
       "      <td>0</td>\n",
       "      <td>0</td>\n",
       "      <td>0</td>\n",
       "      <td>99</td>\n",
       "      <td>중</td>\n",
       "    </tr>\n",
       "    <tr>\n",
       "      <th>2</th>\n",
       "      <td>2</td>\n",
       "      <td>53990</td>\n",
       "      <td>이석영뉴미디어도서관</td>\n",
       "      <td>문화역사</td>\n",
       "      <td>0</td>\n",
       "      <td>0</td>\n",
       "      <td>0</td>\n",
       "      <td>0</td>\n",
       "      <td>1</td>\n",
       "      <td>0</td>\n",
       "      <td>...</td>\n",
       "      <td>0</td>\n",
       "      <td>0</td>\n",
       "      <td>0</td>\n",
       "      <td>0</td>\n",
       "      <td>0</td>\n",
       "      <td>0</td>\n",
       "      <td>0</td>\n",
       "      <td>0</td>\n",
       "      <td>9</td>\n",
       "      <td>소</td>\n",
       "    </tr>\n",
       "    <tr>\n",
       "      <th>3</th>\n",
       "      <td>3</td>\n",
       "      <td>53991</td>\n",
       "      <td>관세청</td>\n",
       "      <td>경제금융</td>\n",
       "      <td>0</td>\n",
       "      <td>1</td>\n",
       "      <td>0</td>\n",
       "      <td>0</td>\n",
       "      <td>0</td>\n",
       "      <td>0</td>\n",
       "      <td>...</td>\n",
       "      <td>0</td>\n",
       "      <td>1</td>\n",
       "      <td>0</td>\n",
       "      <td>0</td>\n",
       "      <td>0</td>\n",
       "      <td>0</td>\n",
       "      <td>0</td>\n",
       "      <td>0</td>\n",
       "      <td>99</td>\n",
       "      <td>중</td>\n",
       "    </tr>\n",
       "    <tr>\n",
       "      <th>4</th>\n",
       "      <td>4</td>\n",
       "      <td>53993</td>\n",
       "      <td>독산동우시장일대 도시재생지원센터</td>\n",
       "      <td>문화역사</td>\n",
       "      <td>0</td>\n",
       "      <td>0</td>\n",
       "      <td>0</td>\n",
       "      <td>0</td>\n",
       "      <td>1</td>\n",
       "      <td>0</td>\n",
       "      <td>...</td>\n",
       "      <td>0</td>\n",
       "      <td>0</td>\n",
       "      <td>0</td>\n",
       "      <td>0</td>\n",
       "      <td>0</td>\n",
       "      <td>0</td>\n",
       "      <td>0</td>\n",
       "      <td>0</td>\n",
       "      <td>99</td>\n",
       "      <td>중</td>\n",
       "    </tr>\n",
       "  </tbody>\n",
       "</table>\n",
       "<p>5 rows × 37 columns</p>\n",
       "</div>"
      ],
      "text/plain": [
       "   Unnamed: 0    idx       company_name interests  경영컨설팅마케팅  경제금융  과학공학기술IT  \\\n",
       "0           0  53987           스카이(SKY)  과학공학기술IT         0     0         1   \n",
       "1           1  53989         서주제과(주)         요리식품         0     0         0   \n",
       "2           2  53990         이석영뉴미디어도서관      문화역사         0     0         0   \n",
       "3           3  53991             관세청         경제금융         0     1         0   \n",
       "4           4  53993  독산동우시장일대 도시재생지원센터      문화역사         0     0         0   \n",
       "\n",
       "   교육  문화역사  뷰티미용화장품  ...  우대역량_기타  취재/인터뷰/기사 경험  컴퓨터 활용능력  콘텐츠 기획/제작 경험  \\\n",
       "0   0     0        0  ...        0             1         0             1   \n",
       "1   0     0        0  ...        0             0         0             0   \n",
       "2   0     1        0  ...        0             0         0             0   \n",
       "3   0     0        0  ...        0             1         0             0   \n",
       "4   0     1        0  ...        0             0         0             0   \n",
       "\n",
       "   타 대외활동 경험  파워블로거/SNS  행사 기획 경험  휴학 중/시간 투자 가능  모집 인원  모집인원규모  \n",
       "0          1          1         0              0     99       중  \n",
       "1          0          0         0              0     99       중  \n",
       "2          0          0         0              0      9       소  \n",
       "3          0          0         0              0     99       중  \n",
       "4          0          0         0              0     99       중  \n",
       "\n",
       "[5 rows x 37 columns]"
      ]
     },
     "execution_count": 101,
     "metadata": {},
     "output_type": "execute_result"
    }
   ],
   "source": [
    "df_activity = pd.read_csv('activity_process.csv') # 대외활동 데이터\n",
    "id_to_name = pd.Series(df_activity.company_name.values, index = df_activity.idx.values)\n",
    "name_to_id = pd.Series(df_activity.idx.values, index = df_activity.company_name).to_dict()\n",
    "\n",
    "\n",
    "df_activity.head(5)"
   ]
  },
  {
   "cell_type": "markdown",
   "id": "4aa50b23",
   "metadata": {},
   "source": [
    "# 필요없는 열제거"
   ]
  },
  {
   "cell_type": "code",
   "execution_count": 102,
   "id": "fd7f489d",
   "metadata": {},
   "outputs": [
    {
     "data": {
      "text/html": [
       "<div>\n",
       "<style scoped>\n",
       "    .dataframe tbody tr th:only-of-type {\n",
       "        vertical-align: middle;\n",
       "    }\n",
       "\n",
       "    .dataframe tbody tr th {\n",
       "        vertical-align: top;\n",
       "    }\n",
       "\n",
       "    .dataframe thead th {\n",
       "        text-align: right;\n",
       "    }\n",
       "</style>\n",
       "<table border=\"1\" class=\"dataframe\">\n",
       "  <thead>\n",
       "    <tr style=\"text-align: right;\">\n",
       "      <th></th>\n",
       "      <th>idx</th>\n",
       "      <th>company_name</th>\n",
       "      <th>경영컨설팅마케팅</th>\n",
       "      <th>경제금융</th>\n",
       "      <th>과학공학기술IT</th>\n",
       "      <th>교육</th>\n",
       "      <th>문화역사</th>\n",
       "      <th>뷰티미용화장품</th>\n",
       "      <th>사회공헌교류</th>\n",
       "      <th>언론미디어</th>\n",
       "      <th>...</th>\n",
       "      <th>외국어</th>\n",
       "      <th>우대역량_기타</th>\n",
       "      <th>취재/인터뷰/기사 경험</th>\n",
       "      <th>컴퓨터 활용능력</th>\n",
       "      <th>콘텐츠 기획/제작 경험</th>\n",
       "      <th>타 대외활동 경험</th>\n",
       "      <th>파워블로거/SNS</th>\n",
       "      <th>행사 기획 경험</th>\n",
       "      <th>휴학 중/시간 투자 가능</th>\n",
       "      <th>모집인원규모</th>\n",
       "    </tr>\n",
       "  </thead>\n",
       "  <tbody>\n",
       "    <tr>\n",
       "      <th>0</th>\n",
       "      <td>53987</td>\n",
       "      <td>스카이(SKY)</td>\n",
       "      <td>0</td>\n",
       "      <td>0</td>\n",
       "      <td>1</td>\n",
       "      <td>0</td>\n",
       "      <td>0</td>\n",
       "      <td>0</td>\n",
       "      <td>0</td>\n",
       "      <td>0</td>\n",
       "      <td>...</td>\n",
       "      <td>0</td>\n",
       "      <td>0</td>\n",
       "      <td>1</td>\n",
       "      <td>0</td>\n",
       "      <td>1</td>\n",
       "      <td>1</td>\n",
       "      <td>1</td>\n",
       "      <td>0</td>\n",
       "      <td>0</td>\n",
       "      <td>중</td>\n",
       "    </tr>\n",
       "    <tr>\n",
       "      <th>1</th>\n",
       "      <td>53989</td>\n",
       "      <td>서주제과(주)</td>\n",
       "      <td>0</td>\n",
       "      <td>0</td>\n",
       "      <td>0</td>\n",
       "      <td>0</td>\n",
       "      <td>0</td>\n",
       "      <td>0</td>\n",
       "      <td>0</td>\n",
       "      <td>0</td>\n",
       "      <td>...</td>\n",
       "      <td>0</td>\n",
       "      <td>0</td>\n",
       "      <td>0</td>\n",
       "      <td>0</td>\n",
       "      <td>0</td>\n",
       "      <td>0</td>\n",
       "      <td>0</td>\n",
       "      <td>0</td>\n",
       "      <td>0</td>\n",
       "      <td>중</td>\n",
       "    </tr>\n",
       "    <tr>\n",
       "      <th>2</th>\n",
       "      <td>53990</td>\n",
       "      <td>이석영뉴미디어도서관</td>\n",
       "      <td>0</td>\n",
       "      <td>0</td>\n",
       "      <td>0</td>\n",
       "      <td>0</td>\n",
       "      <td>1</td>\n",
       "      <td>0</td>\n",
       "      <td>0</td>\n",
       "      <td>0</td>\n",
       "      <td>...</td>\n",
       "      <td>0</td>\n",
       "      <td>0</td>\n",
       "      <td>0</td>\n",
       "      <td>0</td>\n",
       "      <td>0</td>\n",
       "      <td>0</td>\n",
       "      <td>0</td>\n",
       "      <td>0</td>\n",
       "      <td>0</td>\n",
       "      <td>소</td>\n",
       "    </tr>\n",
       "  </tbody>\n",
       "</table>\n",
       "<p>3 rows × 33 columns</p>\n",
       "</div>"
      ],
      "text/plain": [
       "     idx company_name  경영컨설팅마케팅  경제금융  과학공학기술IT  교육  문화역사  뷰티미용화장품  사회공헌교류  \\\n",
       "0  53987     스카이(SKY)         0     0         1   0     0        0       0   \n",
       "1  53989   서주제과(주)            0     0         0   0     0        0       0   \n",
       "2  53990   이석영뉴미디어도서관         0     0         0   0     1        0       0   \n",
       "\n",
       "   언론미디어  ...  외국어  우대역량_기타  취재/인터뷰/기사 경험  컴퓨터 활용능력  콘텐츠 기획/제작 경험  타 대외활동 경험  \\\n",
       "0      0  ...    0        0             1         0             1          1   \n",
       "1      0  ...    0        0             0         0             0          0   \n",
       "2      0  ...    0        0             0         0             0          0   \n",
       "\n",
       "   파워블로거/SNS  행사 기획 경험  휴학 중/시간 투자 가능  모집인원규모  \n",
       "0          1         0              0       중  \n",
       "1          0         0              0       중  \n",
       "2          0         0              0       소  \n",
       "\n",
       "[3 rows x 33 columns]"
      ]
     },
     "execution_count": 102,
     "metadata": {},
     "output_type": "execute_result"
    }
   ],
   "source": [
    "df_activity=df_activity.drop([\"모집 인원\"],axis='columns')\n",
    "df_activity=df_activity.drop([\"Unnamed: 0\"],axis='columns')\n",
    "df_activity=df_activity.drop([\"interests\"],axis='columns')\n",
    "df_activity=df_activity.drop([\"prefer\"],axis='columns')\n",
    "df_activity.head(3)"
   ]
  },
  {
   "cell_type": "markdown",
   "id": "9611d717",
   "metadata": {},
   "source": [
    "# train set, test set 분리"
   ]
  },
  {
   "cell_type": "code",
   "execution_count": 103,
   "id": "8989051f",
   "metadata": {},
   "outputs": [],
   "source": [
    "df_activity_train, df_activity_test = train_test_split(df_activity, random_state = 15688, test_size=0.30)\n",
    "\n"
   ]
  },
  {
   "cell_type": "code",
   "execution_count": 104,
   "id": "231ece5f",
   "metadata": {},
   "outputs": [
    {
     "data": {
      "text/html": [
       "<div>\n",
       "<style scoped>\n",
       "    .dataframe tbody tr th:only-of-type {\n",
       "        vertical-align: middle;\n",
       "    }\n",
       "\n",
       "    .dataframe tbody tr th {\n",
       "        vertical-align: top;\n",
       "    }\n",
       "\n",
       "    .dataframe thead th {\n",
       "        text-align: right;\n",
       "    }\n",
       "</style>\n",
       "<table border=\"1\" class=\"dataframe\">\n",
       "  <thead>\n",
       "    <tr style=\"text-align: right;\">\n",
       "      <th></th>\n",
       "      <th>idx</th>\n",
       "      <th>company_name</th>\n",
       "      <th>경영컨설팅마케팅</th>\n",
       "      <th>경제금융</th>\n",
       "      <th>과학공학기술IT</th>\n",
       "      <th>교육</th>\n",
       "      <th>문화역사</th>\n",
       "      <th>뷰티미용화장품</th>\n",
       "      <th>사회공헌교류</th>\n",
       "      <th>언론미디어</th>\n",
       "      <th>...</th>\n",
       "      <th>외국어</th>\n",
       "      <th>우대역량_기타</th>\n",
       "      <th>취재/인터뷰/기사 경험</th>\n",
       "      <th>컴퓨터 활용능력</th>\n",
       "      <th>콘텐츠 기획/제작 경험</th>\n",
       "      <th>타 대외활동 경험</th>\n",
       "      <th>파워블로거/SNS</th>\n",
       "      <th>행사 기획 경험</th>\n",
       "      <th>휴학 중/시간 투자 가능</th>\n",
       "      <th>모집인원규모</th>\n",
       "    </tr>\n",
       "  </thead>\n",
       "  <tbody>\n",
       "    <tr>\n",
       "      <th>2184</th>\n",
       "      <td>60711</td>\n",
       "      <td>충청남도</td>\n",
       "      <td>0</td>\n",
       "      <td>0</td>\n",
       "      <td>0</td>\n",
       "      <td>0</td>\n",
       "      <td>0</td>\n",
       "      <td>0</td>\n",
       "      <td>0</td>\n",
       "      <td>0</td>\n",
       "      <td>...</td>\n",
       "      <td>0</td>\n",
       "      <td>0</td>\n",
       "      <td>0</td>\n",
       "      <td>0</td>\n",
       "      <td>0</td>\n",
       "      <td>0</td>\n",
       "      <td>0</td>\n",
       "      <td>0</td>\n",
       "      <td>0</td>\n",
       "      <td>대</td>\n",
       "    </tr>\n",
       "    <tr>\n",
       "      <th>2357</th>\n",
       "      <td>61245</td>\n",
       "      <td>미래에셋금융서비스</td>\n",
       "      <td>0</td>\n",
       "      <td>1</td>\n",
       "      <td>0</td>\n",
       "      <td>0</td>\n",
       "      <td>0</td>\n",
       "      <td>0</td>\n",
       "      <td>0</td>\n",
       "      <td>0</td>\n",
       "      <td>...</td>\n",
       "      <td>0</td>\n",
       "      <td>0</td>\n",
       "      <td>0</td>\n",
       "      <td>0</td>\n",
       "      <td>0</td>\n",
       "      <td>1</td>\n",
       "      <td>0</td>\n",
       "      <td>0</td>\n",
       "      <td>0</td>\n",
       "      <td>중</td>\n",
       "    </tr>\n",
       "    <tr>\n",
       "      <th>7122</th>\n",
       "      <td>83478</td>\n",
       "      <td>서울ICT이노베이션스퀘어</td>\n",
       "      <td>0</td>\n",
       "      <td>0</td>\n",
       "      <td>0</td>\n",
       "      <td>0</td>\n",
       "      <td>0</td>\n",
       "      <td>0</td>\n",
       "      <td>0</td>\n",
       "      <td>0</td>\n",
       "      <td>...</td>\n",
       "      <td>0</td>\n",
       "      <td>1</td>\n",
       "      <td>0</td>\n",
       "      <td>0</td>\n",
       "      <td>0</td>\n",
       "      <td>0</td>\n",
       "      <td>0</td>\n",
       "      <td>0</td>\n",
       "      <td>0</td>\n",
       "      <td>소</td>\n",
       "    </tr>\n",
       "  </tbody>\n",
       "</table>\n",
       "<p>3 rows × 33 columns</p>\n",
       "</div>"
      ],
      "text/plain": [
       "        idx   company_name  경영컨설팅마케팅  경제금융  과학공학기술IT  교육  문화역사  뷰티미용화장품  \\\n",
       "2184  60711           충청남도         0     0         0   0     0        0   \n",
       "2357  61245      미래에셋금융서비스         0     1         0   0     0        0   \n",
       "7122  83478  서울ICT이노베이션스퀘어         0     0         0   0     0        0   \n",
       "\n",
       "      사회공헌교류  언론미디어  ...  외국어  우대역량_기타  취재/인터뷰/기사 경험  컴퓨터 활용능력  콘텐츠 기획/제작 경험  \\\n",
       "2184       0      0  ...    0        0             0         0             0   \n",
       "2357       0      0  ...    0        0             0         0             0   \n",
       "7122       0      0  ...    0        1             0         0             0   \n",
       "\n",
       "      타 대외활동 경험  파워블로거/SNS  행사 기획 경험  휴학 중/시간 투자 가능  모집인원규모  \n",
       "2184          0          0         0              0       대  \n",
       "2357          1          0         0              0       중  \n",
       "7122          0          0         0              0       소  \n",
       "\n",
       "[3 rows x 33 columns]"
      ]
     },
     "execution_count": 104,
     "metadata": {},
     "output_type": "execute_result"
    }
   ],
   "source": [
    "df_activity_train.head(3)"
   ]
  },
  {
   "cell_type": "markdown",
   "id": "068327d8",
   "metadata": {},
   "source": [
    "# 같은 대외활동끼리 묶기"
   ]
  },
  {
   "cell_type": "code",
   "execution_count": 105,
   "id": "dee48875",
   "metadata": {},
   "outputs": [],
   "source": [
    "# 비교할 때 제외할 열들의 이름 리스트\n",
    "def data_splitter(df):\n",
    "    exclude_cols = ['idx', 'company_name']\n",
    "\n",
    "    grouped_cols = [col for col in df_activity.columns if col not in exclude_cols]  # 제외할 열을 제외한 열들의 리스트\n",
    "\n",
    "    df_grouped = df_activity.groupby(grouped_cols).apply(lambda x: x.idx.tolist())\n",
    "    \n",
    "    # 결과값을 str 타입으로 저장한 이중 배열\n",
    "    array_of_groups = df_grouped.apply(lambda x: [str(val) for val in x]).tolist()\n",
    "    return array_of_groups"
   ]
  },
  {
   "cell_type": "code",
   "execution_count": 106,
   "id": "a5250879",
   "metadata": {},
   "outputs": [],
   "source": [
    "pd.options.mode.chained_assignment = None\n",
    "activity_ls = data_splitter(df_activity_train)"
   ]
  },
  {
   "cell_type": "markdown",
   "id": "64bcbd50",
   "metadata": {},
   "source": [
    "# 데이터 랜덤으로 섞고, 유효한 데이터 골라내기"
   ]
  },
  {
   "cell_type": "code",
   "execution_count": 107,
   "id": "d043580d",
   "metadata": {},
   "outputs": [],
   "source": [
    "for activity in activity_ls:\n",
    "    random.shuffle(activity)"
   ]
  },
  {
   "cell_type": "code",
   "execution_count": 108,
   "id": "e0bdbe81",
   "metadata": {},
   "outputs": [],
   "source": [
    "filtered_array = [group for group in activity_ls if len(group) > 1]"
   ]
  },
  {
   "cell_type": "code",
   "execution_count": 109,
   "id": "a9c322d7",
   "metadata": {},
   "outputs": [
    {
     "data": {
      "text/plain": [
       "963"
      ]
     },
     "execution_count": 109,
     "metadata": {},
     "output_type": "execute_result"
    }
   ],
   "source": [
    "len(filtered_array)"
   ]
  },
  {
   "cell_type": "markdown",
   "id": "ebe4d1fd",
   "metadata": {},
   "source": [
    "# Model 생성 및 학습"
   ]
  },
  {
   "cell_type": "code",
   "execution_count": 218,
   "id": "08a6e7de",
   "metadata": {},
   "outputs": [],
   "source": [
    "model = Word2Vec(\n",
    "    sentences = filtered_array, # 전처리된 리스트를 파라미터로 사용\n",
    "    epochs = 70, # epoch\n",
    "    min_count = 1, # \n",
    "    vector_size = 100, # hidden layer 사이즈\n",
    "    sg = 1, # skip-gram을 사용하면 1\n",
    "    hs = 0, # negative sampling을 사용하면 0\n",
    "    negative = 5, # 0 이상일 경우 negative sampling을 사용함.\n",
    "    window=5,  # 주변 단어 창 크기\n",
    "    workers=4  # 사용할 CPU 스레드 수\n",
    ")\n",
    "\n",
    "model.save('item2vec_20230516')"
   ]
  },
  {
   "cell_type": "code",
   "execution_count": 219,
   "id": "662e9999",
   "metadata": {},
   "outputs": [],
   "source": [
    "warnings.filterwarnings(action='ignore', category=UserWarning, module='gensim')\n",
    "model = Word2Vec.load('item2vec_20230516')\n",
    "word_vectors = model.wv"
   ]
  },
  {
   "cell_type": "markdown",
   "id": "81e8b92a",
   "metadata": {},
   "source": [
    "# 추천"
   ]
  },
  {
   "cell_type": "code",
   "execution_count": 220,
   "id": "34137eaf",
   "metadata": {},
   "outputs": [],
   "source": [
    "def recommender(positive_list=None, negative_list=None, topn=20):\n",
    "    recommend_activity_ls = []\n",
    "    \n",
    "    for activityId, prob in model.wv.most_similar_cosmul(positive=positive_list, negative=negative_list, topn=topn):\n",
    "        recommend_activity_ls.append(activityId)\n",
    "    return recommend_activity_ls"
   ]
  },
  {
   "cell_type": "code",
   "execution_count": 221,
   "id": "924b42a8",
   "metadata": {},
   "outputs": [
    {
     "name": "stdout",
     "output_type": "stream",
     "text": [
      "[55145, 64478, 80186, 64636, 61323]\n"
     ]
    }
   ],
   "source": [
    "reco = [64165,61367]\n",
    "reco_str = [str(num) for num in reco]\n",
    "recommandations = recommender(positive_list=reco_str, topn=5)\n",
    "reco_int = [int(value) for value in recommandations] # str -> int\n",
    "print(reco_int)"
   ]
  },
  {
   "cell_type": "code",
   "execution_count": 222,
   "id": "a1a03aa3",
   "metadata": {},
   "outputs": [
    {
     "name": "stdout",
     "output_type": "stream",
     "text": [
      "['(재)대전일자리경제진흥원', '신세계아이앤씨   ']\n"
     ]
    }
   ],
   "source": [
    "# 입력 데이터\n",
    "filtered_activity_names = df_activity.loc[df_activity['idx'].isin(reco), 'company_name'].tolist()\n",
    "print(filtered_activity_names)"
   ]
  },
  {
   "cell_type": "code",
   "execution_count": 223,
   "id": "6e1a170a",
   "metadata": {},
   "outputs": [
    {
     "name": "stdout",
     "output_type": "stream",
     "text": [
      "['이티에듀   ', '웨시   ', '텐덤   ', '한국마이크로소프트', '사단법인 점프']\n"
     ]
    }
   ],
   "source": [
    "# 출력 데이터\n",
    "filtered_activity_names = df_activity.loc[df_activity['idx'].isin(reco_int), 'company_name'].tolist()\n",
    "print(filtered_activity_names)"
   ]
  },
  {
   "cell_type": "code",
   "execution_count": 224,
   "id": "55053a3f",
   "metadata": {},
   "outputs": [
    {
     "name": "stdout",
     "output_type": "stream",
     "text": [
      "[('55145', 0.995672881603241), ('64478', 0.9955165982246399), ('80186', 0.9951454401016235), ('64636', 0.994850754737854), ('61323', 0.994835376739502), ('91688', 0.994789719581604), ('55543', 0.9947173595428467), ('64816', 0.9946165680885315), ('78690', 0.994437038898468), ('57506', 0.9942106604576111)]\n"
     ]
    }
   ],
   "source": [
    "print(model.wv.most_similar([\"64165\",\"61367\"]))"
   ]
  },
  {
   "cell_type": "code",
   "execution_count": null,
   "id": "02f9e2b6",
   "metadata": {},
   "outputs": [],
   "source": []
  }
 ],
 "metadata": {
  "kernelspec": {
   "display_name": "Python 3 (ipykernel)",
   "language": "python",
   "name": "python3"
  },
  "language_info": {
   "codemirror_mode": {
    "name": "ipython",
    "version": 3
   },
   "file_extension": ".py",
   "mimetype": "text/x-python",
   "name": "python",
   "nbconvert_exporter": "python",
   "pygments_lexer": "ipython3",
   "version": "3.9.12"
  }
 },
 "nbformat": 4,
 "nbformat_minor": 5
}
