{
 "cells": [
  {
   "cell_type": "markdown",
   "id": "9acbe573",
   "metadata": {},
   "source": [
    "## Import"
   ]
  },
  {
   "cell_type": "code",
   "execution_count": 1,
   "id": "f16fc080",
   "metadata": {},
   "outputs": [],
   "source": [
    "import pandas as pd\n",
    "import numpy as np\n",
    "import random\n",
    "import matplotlib.pyplot as plt\n",
    "from sklearn.model_selection import train_test_split\n",
    "from sklearn.preprocessing import MultiLabelBinarizer\n",
    "import warnings\n",
    "warnings.filterwarnings(action='ignore', category=UserWarning, module='gensim')\n",
    "import gensim\n",
    "assert gensim.models.word2vec.FAST_VERSION > -1\n",
    "from gensim.models import Word2Vec\n",
    "import datetime\n",
    "import requests\n",
    "import re\n",
    "from bs4 import BeautifulSoup"
   ]
  },
  {
   "cell_type": "markdown",
   "id": "291f3fbc",
   "metadata": {},
   "source": [
    "## Data 준비하기"
   ]
  },
  {
   "cell_type": "code",
   "execution_count": 2,
   "id": "41fa34d8",
   "metadata": {},
   "outputs": [
    {
     "data": {
      "text/html": [
       "<div>\n",
       "<style scoped>\n",
       "    .dataframe tbody tr th:only-of-type {\n",
       "        vertical-align: middle;\n",
       "    }\n",
       "\n",
       "    .dataframe tbody tr th {\n",
       "        vertical-align: top;\n",
       "    }\n",
       "\n",
       "    .dataframe thead th {\n",
       "        text-align: right;\n",
       "    }\n",
       "</style>\n",
       "<table border=\"1\" class=\"dataframe\">\n",
       "  <thead>\n",
       "    <tr style=\"text-align: right;\">\n",
       "      <th></th>\n",
       "      <th>Unnamed: 0</th>\n",
       "      <th>idx</th>\n",
       "      <th>scholarship_name</th>\n",
       "      <th>foundation</th>\n",
       "      <th>scholarship_type</th>\n",
       "      <th>근로장학</th>\n",
       "      <th>기숙사/주거지원</th>\n",
       "      <th>기타장학</th>\n",
       "      <th>대출지원</th>\n",
       "      <th>연수/연구장학</th>\n",
       "      <th>...</th>\n",
       "      <th>대학원생</th>\n",
       "      <th>전문대생</th>\n",
       "      <th>중학생</th>\n",
       "      <th>청년</th>\n",
       "      <th>초등학생</th>\n",
       "      <th>선발 인원(명)</th>\n",
       "      <th>선발인원규모</th>\n",
       "      <th>장학혜택(만원)</th>\n",
       "      <th>장학혜택규모</th>\n",
       "      <th>memo</th>\n",
       "    </tr>\n",
       "  </thead>\n",
       "  <tbody>\n",
       "    <tr>\n",
       "      <th>0</th>\n",
       "      <td>0</td>\n",
       "      <td>2000</td>\n",
       "      <td>2020년 포스코비전장학</td>\n",
       "      <td>포스코청암재단</td>\n",
       "      <td>장학금</td>\n",
       "      <td>0</td>\n",
       "      <td>0</td>\n",
       "      <td>0</td>\n",
       "      <td>0</td>\n",
       "      <td>0</td>\n",
       "      <td>...</td>\n",
       "      <td>0</td>\n",
       "      <td>0</td>\n",
       "      <td>0</td>\n",
       "      <td>0</td>\n",
       "      <td>0</td>\n",
       "      <td>99</td>\n",
       "      <td>대</td>\n",
       "      <td>1440</td>\n",
       "      <td>대</td>\n",
       "      <td>어려운 환경에서 올바른 품성을 가지고 학업에 정진하는 청소년들을 지원하고자 제철소 ...</td>\n",
       "    </tr>\n",
       "    <tr>\n",
       "      <th>1</th>\n",
       "      <td>2</td>\n",
       "      <td>2002</td>\n",
       "      <td>서원대 총동문회 장학 (2019년)</td>\n",
       "      <td>서원대학교 총동문회</td>\n",
       "      <td>장학금</td>\n",
       "      <td>0</td>\n",
       "      <td>0</td>\n",
       "      <td>0</td>\n",
       "      <td>0</td>\n",
       "      <td>0</td>\n",
       "      <td>...</td>\n",
       "      <td>0</td>\n",
       "      <td>0</td>\n",
       "      <td>0</td>\n",
       "      <td>0</td>\n",
       "      <td>0</td>\n",
       "      <td>9</td>\n",
       "      <td>소</td>\n",
       "      <td>100</td>\n",
       "      <td>소</td>\n",
       "      <td>서원대학교 총동문회에서 총동문회비를 납부한 서원대 재학생을 지원하는 장학입니다.</td>\n",
       "    </tr>\n",
       "    <tr>\n",
       "      <th>2</th>\n",
       "      <td>3</td>\n",
       "      <td>2003</td>\n",
       "      <td>예술인 전세자금대출 (2019년)</td>\n",
       "      <td>한국예술인복지재단</td>\n",
       "      <td>대출지원</td>\n",
       "      <td>0</td>\n",
       "      <td>0</td>\n",
       "      <td>0</td>\n",
       "      <td>1</td>\n",
       "      <td>0</td>\n",
       "      <td>...</td>\n",
       "      <td>0</td>\n",
       "      <td>0</td>\n",
       "      <td>0</td>\n",
       "      <td>0</td>\n",
       "      <td>0</td>\n",
       "      <td>0</td>\n",
       "      <td>인원미정</td>\n",
       "      <td>0</td>\n",
       "      <td>금액미정</td>\n",
       "      <td>한국예술인복지재단이 진행하는 예술인생활안정자금(융자) 전세자금대출 사업입니다.</td>\n",
       "    </tr>\n",
       "    <tr>\n",
       "      <th>3</th>\n",
       "      <td>4</td>\n",
       "      <td>2004</td>\n",
       "      <td>KRX DREAM 대학생 장학 (2020년)</td>\n",
       "      <td>KRX 국민행복재단</td>\n",
       "      <td>장학금</td>\n",
       "      <td>0</td>\n",
       "      <td>0</td>\n",
       "      <td>0</td>\n",
       "      <td>0</td>\n",
       "      <td>0</td>\n",
       "      <td>...</td>\n",
       "      <td>0</td>\n",
       "      <td>1</td>\n",
       "      <td>0</td>\n",
       "      <td>0</td>\n",
       "      <td>0</td>\n",
       "      <td>40</td>\n",
       "      <td>중</td>\n",
       "      <td>600</td>\n",
       "      <td>대</td>\n",
       "      <td>KRX 국민행복재단에서 서울 및 부산 소재 대학에 재학 중인 학생을 지원하는 장학입니다.</td>\n",
       "    </tr>\n",
       "    <tr>\n",
       "      <th>4</th>\n",
       "      <td>10</td>\n",
       "      <td>2010</td>\n",
       "      <td>국가근로장학 (2020년 1학기)</td>\n",
       "      <td>한국장학재단</td>\n",
       "      <td>근로장학</td>\n",
       "      <td>1</td>\n",
       "      <td>0</td>\n",
       "      <td>0</td>\n",
       "      <td>0</td>\n",
       "      <td>0</td>\n",
       "      <td>...</td>\n",
       "      <td>0</td>\n",
       "      <td>1</td>\n",
       "      <td>0</td>\n",
       "      <td>0</td>\n",
       "      <td>0</td>\n",
       "      <td>0</td>\n",
       "      <td>인원미정</td>\n",
       "      <td>0</td>\n",
       "      <td>금액미정</td>\n",
       "      <td>한국장학재단에서 시행하는 안정적인 학업여건 조성과 취업역량 제고를 위한 장학금입니다.</td>\n",
       "    </tr>\n",
       "  </tbody>\n",
       "</table>\n",
       "<p>5 rows × 26 columns</p>\n",
       "</div>"
      ],
      "text/plain": [
       "   Unnamed: 0   idx          scholarship_name  foundation scholarship_type   \n",
       "0           0  2000             2020년 포스코비전장학     포스코청암재단              장학금  \\\n",
       "1           2  2002       서원대 총동문회 장학 (2019년)  서원대학교 총동문회              장학금   \n",
       "2           3  2003        예술인 전세자금대출 (2019년)   한국예술인복지재단             대출지원   \n",
       "3           4  2004  KRX DREAM 대학생 장학 (2020년)  KRX 국민행복재단              장학금   \n",
       "4          10  2010        국가근로장학 (2020년 1학기)      한국장학재단             근로장학   \n",
       "\n",
       "   근로장학  기숙사/주거지원  기타장학  대출지원  연수/연구장학  ...  대학원생  전문대생 중학생  청년  초등학생   \n",
       "0     0         0     0     0        0  ...     0     0   0   0     0  \\\n",
       "1     0         0     0     0        0  ...     0     0   0   0     0   \n",
       "2     0         0     0     1        0  ...     0     0   0   0     0   \n",
       "3     0         0     0     0        0  ...     0     1   0   0     0   \n",
       "4     1         0     0     0        0  ...     0     1   0   0     0   \n",
       "\n",
       "   선발 인원(명)  선발인원규모  장학혜택(만원)  장학혜택규모   \n",
       "0        99       대      1440       대  \\\n",
       "1         9       소       100       소   \n",
       "2         0    인원미정         0    금액미정   \n",
       "3        40       중       600       대   \n",
       "4         0    인원미정         0    금액미정   \n",
       "\n",
       "                                                memo  \n",
       "0  어려운 환경에서 올바른 품성을 가지고 학업에 정진하는 청소년들을 지원하고자 제철소 ...  \n",
       "1       서원대학교 총동문회에서 총동문회비를 납부한 서원대 재학생을 지원하는 장학입니다.  \n",
       "2        한국예술인복지재단이 진행하는 예술인생활안정자금(융자) 전세자금대출 사업입니다.  \n",
       "3  KRX 국민행복재단에서 서울 및 부산 소재 대학에 재학 중인 학생을 지원하는 장학입니다.  \n",
       "4    한국장학재단에서 시행하는 안정적인 학업여건 조성과 취업역량 제고를 위한 장학금입니다.  \n",
       "\n",
       "[5 rows x 26 columns]"
      ]
     },
     "execution_count": 2,
     "metadata": {},
     "output_type": "execute_result"
    }
   ],
   "source": [
    "## < Data 준비하기 >\n",
    "# 데이터 읽기\n",
    "df_scholarship = pd.read_csv('dataset/scholarship_process.csv') # 장학금 데이터\n",
    "# df_contest = pd.read_csv('contest.csv') # 공모전 데이터\n",
    "\n",
    "# 인코딩\n",
    "id_to_name = pd.Series(df_scholarship.scholarship_name.values, index = df_scholarship.idx.values)\n",
    "name_to_id = pd.Series(df_scholarship.idx.values, index = df_scholarship.scholarship_name).to_dict()\n",
    "\n",
    "df_scholarship.head(5)"
   ]
  },
  {
   "cell_type": "markdown",
   "id": "4cdc9245",
   "metadata": {},
   "source": [
    "## 필요 없는 column 제거"
   ]
  },
  {
   "cell_type": "code",
   "execution_count": 3,
   "id": "89527a7a",
   "metadata": {},
   "outputs": [
    {
     "data": {
      "text/html": [
       "<div>\n",
       "<style scoped>\n",
       "    .dataframe tbody tr th:only-of-type {\n",
       "        vertical-align: middle;\n",
       "    }\n",
       "\n",
       "    .dataframe tbody tr th {\n",
       "        vertical-align: top;\n",
       "    }\n",
       "\n",
       "    .dataframe thead th {\n",
       "        text-align: right;\n",
       "    }\n",
       "</style>\n",
       "<table border=\"1\" class=\"dataframe\">\n",
       "  <thead>\n",
       "    <tr style=\"text-align: right;\">\n",
       "      <th></th>\n",
       "      <th>idx</th>\n",
       "      <th>scholarship_name</th>\n",
       "      <th>foundation</th>\n",
       "      <th>근로장학</th>\n",
       "      <th>기숙사/주거지원</th>\n",
       "      <th>기타장학</th>\n",
       "      <th>대출지원</th>\n",
       "      <th>연수/연구장학</th>\n",
       "      <th>장학금</th>\n",
       "      <th>취업연계/산학장학</th>\n",
       "      <th>고등학생</th>\n",
       "      <th>기타/일반</th>\n",
       "      <th>대학생</th>\n",
       "      <th>대학원생</th>\n",
       "      <th>전문대생</th>\n",
       "      <th>중학생</th>\n",
       "      <th>청년</th>\n",
       "      <th>초등학생</th>\n",
       "      <th>선발인원규모</th>\n",
       "      <th>장학혜택규모</th>\n",
       "    </tr>\n",
       "  </thead>\n",
       "  <tbody>\n",
       "    <tr>\n",
       "      <th>0</th>\n",
       "      <td>2000</td>\n",
       "      <td>2020년 포스코비전장학</td>\n",
       "      <td>포스코청암재단</td>\n",
       "      <td>0</td>\n",
       "      <td>0</td>\n",
       "      <td>0</td>\n",
       "      <td>0</td>\n",
       "      <td>0</td>\n",
       "      <td>1</td>\n",
       "      <td>0</td>\n",
       "      <td>1</td>\n",
       "      <td>1</td>\n",
       "      <td>1</td>\n",
       "      <td>0</td>\n",
       "      <td>0</td>\n",
       "      <td>0</td>\n",
       "      <td>0</td>\n",
       "      <td>0</td>\n",
       "      <td>대</td>\n",
       "      <td>대</td>\n",
       "    </tr>\n",
       "    <tr>\n",
       "      <th>1</th>\n",
       "      <td>2002</td>\n",
       "      <td>서원대 총동문회 장학 (2019년)</td>\n",
       "      <td>서원대학교 총동문회</td>\n",
       "      <td>0</td>\n",
       "      <td>0</td>\n",
       "      <td>0</td>\n",
       "      <td>0</td>\n",
       "      <td>0</td>\n",
       "      <td>1</td>\n",
       "      <td>0</td>\n",
       "      <td>0</td>\n",
       "      <td>0</td>\n",
       "      <td>1</td>\n",
       "      <td>0</td>\n",
       "      <td>0</td>\n",
       "      <td>0</td>\n",
       "      <td>0</td>\n",
       "      <td>0</td>\n",
       "      <td>소</td>\n",
       "      <td>소</td>\n",
       "    </tr>\n",
       "    <tr>\n",
       "      <th>2</th>\n",
       "      <td>2003</td>\n",
       "      <td>예술인 전세자금대출 (2019년)</td>\n",
       "      <td>한국예술인복지재단</td>\n",
       "      <td>0</td>\n",
       "      <td>0</td>\n",
       "      <td>0</td>\n",
       "      <td>1</td>\n",
       "      <td>0</td>\n",
       "      <td>0</td>\n",
       "      <td>0</td>\n",
       "      <td>0</td>\n",
       "      <td>1</td>\n",
       "      <td>0</td>\n",
       "      <td>0</td>\n",
       "      <td>0</td>\n",
       "      <td>0</td>\n",
       "      <td>0</td>\n",
       "      <td>0</td>\n",
       "      <td>인원미정</td>\n",
       "      <td>금액미정</td>\n",
       "    </tr>\n",
       "    <tr>\n",
       "      <th>3</th>\n",
       "      <td>2004</td>\n",
       "      <td>KRX DREAM 대학생 장학 (2020년)</td>\n",
       "      <td>KRX 국민행복재단</td>\n",
       "      <td>0</td>\n",
       "      <td>0</td>\n",
       "      <td>0</td>\n",
       "      <td>0</td>\n",
       "      <td>0</td>\n",
       "      <td>1</td>\n",
       "      <td>0</td>\n",
       "      <td>0</td>\n",
       "      <td>0</td>\n",
       "      <td>1</td>\n",
       "      <td>0</td>\n",
       "      <td>1</td>\n",
       "      <td>0</td>\n",
       "      <td>0</td>\n",
       "      <td>0</td>\n",
       "      <td>중</td>\n",
       "      <td>대</td>\n",
       "    </tr>\n",
       "    <tr>\n",
       "      <th>4</th>\n",
       "      <td>2010</td>\n",
       "      <td>국가근로장학 (2020년 1학기)</td>\n",
       "      <td>한국장학재단</td>\n",
       "      <td>1</td>\n",
       "      <td>0</td>\n",
       "      <td>0</td>\n",
       "      <td>0</td>\n",
       "      <td>0</td>\n",
       "      <td>0</td>\n",
       "      <td>0</td>\n",
       "      <td>0</td>\n",
       "      <td>0</td>\n",
       "      <td>1</td>\n",
       "      <td>0</td>\n",
       "      <td>1</td>\n",
       "      <td>0</td>\n",
       "      <td>0</td>\n",
       "      <td>0</td>\n",
       "      <td>인원미정</td>\n",
       "      <td>금액미정</td>\n",
       "    </tr>\n",
       "  </tbody>\n",
       "</table>\n",
       "</div>"
      ],
      "text/plain": [
       "    idx          scholarship_name  foundation  근로장학  기숙사/주거지원  기타장학  대출지원   \n",
       "0  2000             2020년 포스코비전장학     포스코청암재단     0         0     0     0  \\\n",
       "1  2002       서원대 총동문회 장학 (2019년)  서원대학교 총동문회     0         0     0     0   \n",
       "2  2003        예술인 전세자금대출 (2019년)   한국예술인복지재단     0         0     0     1   \n",
       "3  2004  KRX DREAM 대학생 장학 (2020년)  KRX 국민행복재단     0         0     0     0   \n",
       "4  2010        국가근로장학 (2020년 1학기)      한국장학재단     1         0     0     0   \n",
       "\n",
       "   연수/연구장학  장학금  취업연계/산학장학  고등학생  기타/일반  대학생  대학원생  전문대생  중학생  청년  초등학생   \n",
       "0        0    1          0     1      1    1     0     0    0   0     0  \\\n",
       "1        0    1          0     0      0    1     0     0    0   0     0   \n",
       "2        0    0          0     0      1    0     0     0    0   0     0   \n",
       "3        0    1          0     0      0    1     0     1    0   0     0   \n",
       "4        0    0          0     0      0    1     0     1    0   0     0   \n",
       "\n",
       "  선발인원규모 장학혜택규모  \n",
       "0      대      대  \n",
       "1      소      소  \n",
       "2   인원미정   금액미정  \n",
       "3      중      대  \n",
       "4   인원미정   금액미정  "
      ]
     },
     "execution_count": 3,
     "metadata": {},
     "output_type": "execute_result"
    }
   ],
   "source": [
    "df_scholarship = df_scholarship.drop(['Unnamed: 0', 'scholarship_type', 'target', '선발 인원(명)', '장학혜택(만원)', 'memo'], axis=1)\n",
    "df_scholarship.head(5)"
   ]
  },
  {
   "cell_type": "markdown",
   "id": "94815643",
   "metadata": {},
   "source": [
    "## train, test set 만들기"
   ]
  },
  {
   "cell_type": "code",
   "execution_count": 4,
   "id": "d3e7bad9",
   "metadata": {},
   "outputs": [],
   "source": [
    "# < train set, test set 만들기 >\n",
    "df_scholarship_train, df_scholarship_test = train_test_split(df_scholarship, random_state = 15688, test_size=0.30)"
   ]
  },
  {
   "cell_type": "markdown",
   "id": "4038a4d7",
   "metadata": {},
   "source": [
    "## 장학금 타입, 지원 대상, 선발인원규모, 장학혜택규모가 같은 장학금끼리 묶기"
   ]
  },
  {
   "cell_type": "code",
   "execution_count": 5,
   "id": "e62d7319",
   "metadata": {},
   "outputs": [],
   "source": [
    "# 비교할 때 제외할 열들의 이름 리스트\n",
    "def data_splitter(df):\n",
    "    exclude_cols = ['idx', 'scholarship_name', 'foundation']\n",
    "\n",
    "    grouped_cols = [col for col in df_scholarship.columns if col not in exclude_cols]  # 제외할 열을 제외한 열들의 리스트\n",
    "\n",
    "    df_grouped = df_scholarship.groupby(grouped_cols).apply(lambda x: x.idx.tolist())\n",
    "    \n",
    "    # 결과값을 str 타입으로 저장한 이중 배열\n",
    "    array_of_groups = df_grouped.apply(lambda x: [str(val) for val in x]).tolist()\n",
    "    return array_of_groups"
   ]
  },
  {
   "cell_type": "code",
   "execution_count": 6,
   "id": "19a3f2f0",
   "metadata": {},
   "outputs": [],
   "source": [
    "pd.options.mode.chained_assignment = None\n",
    "scholarship_ls = data_splitter(df_scholarship_train)"
   ]
  },
  {
   "cell_type": "markdown",
   "id": "33954faa",
   "metadata": {},
   "source": [
    "## 데이터 랜덤으로 섞고, 유효한 데이터 골라내기"
   ]
  },
  {
   "cell_type": "code",
   "execution_count": 7,
   "id": "b042079b",
   "metadata": {},
   "outputs": [],
   "source": [
    "for scholarships in scholarship_ls:\n",
    "    random.shuffle(scholarships)"
   ]
  },
  {
   "cell_type": "code",
   "execution_count": 8,
   "id": "95d81239",
   "metadata": {},
   "outputs": [],
   "source": [
    "filtered_array = [group for group in scholarship_ls if len(group) > 1]"
   ]
  },
  {
   "cell_type": "code",
   "execution_count": 9,
   "id": "41824fce",
   "metadata": {},
   "outputs": [
    {
     "data": {
      "text/plain": [
       "403"
      ]
     },
     "execution_count": 9,
     "metadata": {},
     "output_type": "execute_result"
    }
   ],
   "source": [
    "len(filtered_array)"
   ]
  },
  {
   "cell_type": "markdown",
   "id": "c88002d3",
   "metadata": {},
   "source": [
    "## Model 생성 및 학습"
   ]
  },
  {
   "cell_type": "code",
   "execution_count": 10,
   "id": "f244d5a3",
   "metadata": {},
   "outputs": [],
   "source": [
    "# 모델 생성\n",
    "model = Word2Vec(\n",
    "    sentences=filtered_array,  # 전처리된 리스트를 파라미터로 사용\n",
    "    vector_size=100,  # hidden layer 사이즈\n",
    "    window=5,  # 주변 단어 창 크기\n",
    "    min_count=1,  # 최소 등장 횟수\n",
    "    workers=4,  # 사용할 CPU 스레드 수\n",
    "    sg=1,  # Skip-gram 모델 사용\n",
    "    hs=0,  # Negative sampling 사용\n",
    "    negative=5,  # Negative sampling에서 사용할 negative 단어의 개수\n",
    "    epochs=5  # 훈련 에포크 수\n",
    ")\n",
    "\n",
    "# 모델 저장\n",
    "# model.save('item2vec_20230516')\n",
    "\n",
    "\n",
    "# < 모델 불러오기 >\n",
    "# warnings.filterwarnings(action='ignore', category=UserWarning, module='gensim')\n",
    "\n",
    "# model = Word2Vec.load('item2vec_20230407')"
   ]
  },
  {
   "cell_type": "markdown",
   "id": "8dc16c28",
   "metadata": {},
   "source": [
    "## 추천"
   ]
  },
  {
   "cell_type": "code",
   "execution_count": 11,
   "id": "9415a3a6",
   "metadata": {},
   "outputs": [],
   "source": [
    "def recommender(positive_list=None, negative_list=None, topn=20):\n",
    "    recommend_scholarship_ls = []\n",
    "    \n",
    "    for scholarshipId, prob in model.wv.most_similar_cosmul(positive=positive_list, negative=negative_list, topn=topn):\n",
    "        recommend_scholarship_ls.append(scholarshipId)\n",
    "    return recommend_scholarship_ls"
   ]
  },
  {
   "cell_type": "code",
   "execution_count": 12,
   "id": "dd3fc051",
   "metadata": {},
   "outputs": [
    {
     "name": "stdout",
     "output_type": "stream",
     "text": [
      "[4351, 5414, 5049, 4410, 5686]\n"
     ]
    }
   ],
   "source": [
    "# recommender\n",
    "reco = [2016] # 검색하고 싶은 idx\n",
    "reco_str = [str(num) for num in reco]\n",
    "recommandations = recommender(positive_list=reco_str, topn=5)\n",
    "reco_int = [int(value) for value in recommandations] # str -> int\n",
    "print(reco_int)"
   ]
  },
  {
   "cell_type": "code",
   "execution_count": 13,
   "id": "f1ceb3ea",
   "metadata": {},
   "outputs": [
    {
     "name": "stdout",
     "output_type": "stream",
     "text": [
      "['경희대 이수병 장학 (2020년)']\n"
     ]
    }
   ],
   "source": [
    "# 입력 데이터\n",
    "filtered_scholarship_names = df_scholarship.loc[df_scholarship['idx'].isin(reco), 'scholarship_name'].tolist()\n",
    "print(filtered_scholarship_names)"
   ]
  },
  {
   "cell_type": "code",
   "execution_count": 14,
   "id": "e50dfd81",
   "metadata": {},
   "outputs": [
    {
     "name": "stdout",
     "output_type": "stream",
     "text": [
      "['독일어학연수 섬머코스장학', '신한장학재단 일반장학 (2022년)', '일주학술재단 해외박사 장학 (2022년)', '경기도 광주시 예술인 재난지원금 (2차)', '성균관대 63장학금']\n"
     ]
    }
   ],
   "source": [
    "# 출력 데이터\n",
    "filtered_scholarship_names = df_scholarship.loc[df_scholarship['idx'].isin(reco_int), 'scholarship_name'].tolist()\n",
    "print(filtered_scholarship_names)"
   ]
  }
 ],
 "metadata": {
  "kernelspec": {
   "display_name": "Python 3 (ipykernel)",
   "language": "python",
   "name": "python3"
  },
  "language_info": {
   "codemirror_mode": {
    "name": "ipython",
    "version": 3
   },
   "file_extension": ".py",
   "mimetype": "text/x-python",
   "name": "python",
   "nbconvert_exporter": "python",
   "pygments_lexer": "ipython3",
   "version": "3.8.15"
  }
 },
 "nbformat": 4,
 "nbformat_minor": 5
}
