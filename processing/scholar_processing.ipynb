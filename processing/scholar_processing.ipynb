{
 "cells": [
  {
   "cell_type": "code",
   "execution_count": 1,
   "metadata": {},
   "outputs": [],
   "source": [
    "import pandas as pd\n",
    "import numpy as np\n",
    "\n",
    "from sklearn.preprocessing import LabelEncoder\n",
    "encoder=LabelEncoder()\n",
    "\n",
    "#불러오기,결측값제거\n",
    "df = pd.read_csv('./scholarship.csv',sep=',')\n",
    "df = df.dropna()\n",
    "\n",
    "#장학종류 더미변수화\n",
    "df = df.join(df[\"scholarship_type\"].str.split(', ', expand=True).stack().str.get_dummies().groupby(level=0).sum())\n",
    "\n",
    "#선발대상 더미변수화\n",
    "df = df.join(df[\"target\"].str.split(', ', expand=True).stack().str.get_dummies().groupby(level=0).sum())\n",
    "\n",
    "\n",
    "#선발인원\n",
    "df[\"선발 인원(명)\"]=df[\"recruit\"].str.extract(r'(\\d+)')    #숫자만 남기기\n",
    "df=df.replace({\"선발 인원(명)\":'000'},'999')                #000은 세자리수를 의미함으로 999명으로 변경\n",
    "df=df.replace({\"선발 인원(명)\":'00'},'99')                  #00은 두자리수를 의미함으로 99명으로 변경\n",
    "df=df.replace({\"선발 인원(명)\":'0'},'9')                    #0은 힌자리수를 의미함으로 9명으로 변경\n",
    "df=df.replace({\"선발 인원(명)\":np.NaN},0)                   #NaN(미정)값 0으로 변경\n",
    "df=df.astype({\"선발 인원(명)\":'int'})                   \n",
    "student_bins=[0,1,11,51,50000]                        #범주화  0:인원미정/1-10(명):소/11-50(명):중/51-50000(명):대\n",
    "student_scale=[\"인원미정\",\"소\",\"중\",\"대\"]               \n",
    "df[\"선발인원규모\"]=pd.cut(df[\"선발 인원(명)\"],bins=student_bins,right=False,labels=student_scale) #분포범주화\n",
    "\n",
    "#장학혜택\n",
    "df[\"benefit\"]=df[\"benefit\"].str.replace(',',\"\")           #쉼표없애기(금액 때문)\n",
    "df[\"장학혜택(만원)\"]=df[\"benefit\"].str.extract(r'(\\d+)')   #숫자만남기기\n",
    "df=df.replace({\"장학혜택(만원)\":np.NaN},0)                  #NaN(미정)값 0으로 변경                   \n",
    "df=df.astype({\"장학혜택(만원)\":'int'})\n",
    "money_bins=[0,1,101,201,50000]                               #범주화   0:금액미정/1-100(만원):소/101-200(만원):중/201-50000(만원):대\n",
    "money_scale=[\"금액미정\",\"소\",\"중\",\"대\"]\n",
    "df[\"장학혜택규모\"]=pd.cut(df[\"장학혜택(만원)\"],bins=money_bins,right=False,labels=money_scale)  #분포범주화\n",
    "\n",
    "#열제거\n",
    "df=df.drop([\"scholarship_name\",\"period\",\"recruit\",\"benefit\"],axis='columns')\n",
    "\n",
    "#열위치조정\n",
    "df = df.reindex(columns=[\"idx\",\"foundation\",\"scholarship_type\",\"근로장학\",\"기숙사/주거지원\",\"기타장학\",\"대출지원\",\"연수/연구장학\",\"장학금\",\"취업연계/산학장학\",\"target\",\"고등학생\",\"기타/일반\",\"대학생\",\"대학원생\",\"전문대생\",\"중학생\",\"청년\",\"초등학생\",\"선발 인원(명)\",\"선발인원규모\",\"장학혜택(만원)\",\"장학혜택규모\",\"memo\"])\n",
    "\n",
    "#csv파일저장\n",
    "df=df.to_csv('scholarship_process.csv')"
   ]
  }
 ],
 "metadata": {
  "kernelspec": {
   "display_name": "base",
   "language": "python",
   "name": "python3"
  },
  "language_info": {
   "codemirror_mode": {
    "name": "ipython",
    "version": 3
   },
   "file_extension": ".py",
   "mimetype": "text/x-python",
   "name": "python",
   "nbconvert_exporter": "python",
   "pygments_lexer": "ipython3",
   "version": "3.9.12"
  },
  "orig_nbformat": 4,
  "vscode": {
   "interpreter": {
    "hash": "59d8350d632c1aaf68822a9dfae7bdf205c349302614c6bf83548cab09e4a4c4"
   }
  }
 },
 "nbformat": 4,
 "nbformat_minor": 2
}
