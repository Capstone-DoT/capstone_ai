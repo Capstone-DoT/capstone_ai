{
 "cells": [
  {
   "cell_type": "code",
   "execution_count": 5,
   "metadata": {},
   "outputs": [],
   "source": [
    "import pandas as pd\n",
    "import numpy as np\n",
    "from sklearn.preprocessing import LabelEncoder\n",
    "encoder=LabelEncoder()\n",
    "\n",
    "#불러오기,결측값제거\n",
    "df = pd.read_csv('./list.csv',sep=',')\n",
    "df = df.dropna()\n",
    "\n",
    "#장학종류 더미변수화\n",
    "df = df.join(df[\"장학종류\"].str.split(', ', expand=True).stack().str.get_dummies().groupby(level=0).sum())\n",
    "\n",
    "#선발대상 더미변수화\n",
    "df = df.join(df[\"선발대상\"].str.split(', ', expand=True).stack().str.get_dummies().groupby(level=0).sum())\n",
    "\n",
    "#조회수\n",
    "df[\"조회 수\"]=df[\"조회수\"].str.extract(r'(\\d+)')    #'조회:'없애기\n",
    "df=df.astype({\"조회 수\":'int'})\n",
    "\n",
    "#선발인원\n",
    "df[\"선발 인원(명)\"]=df[\"선발인원\"].str.extract(r'(\\d+)')    #숫자만 남기기\n",
    "df=df.replace({\"선발 인원(명)\":'000'},'999')                #000은 세자리수를 의미함으로 999명으로 변경\n",
    "df=df.replace({\"선발 인원(명)\":'00'},'99')                  #00은 두자리수를 의미함으로 99명으로 변경\n",
    "df=df.replace({\"선발 인원(명)\":'0'},'9')                    #0은 힌자리수를 의미함으로 9명으로 변경\n",
    "df=df.replace({\"선발 인원(명)\":np.NaN},0)                   #NaN(미정)값 0으로 변경\n",
    "df=df.astype({\"선발 인원(명)\":'int'})                   \n",
    "student_bins=[0,1,11,51,50000]                        #범주화  0:인원미정/1-10(명):소/11-50(명):중/51-50000(명):대\n",
    "student_scale=[\"인원미정\",\"소\",\"중\",\"대\"]               \n",
    "df[\"선발인원규모\"]=pd.cut(df[\"선발 인원(명)\"],bins=student_bins,right=False,labels=student_scale) #분포범주화\n",
    "\n",
    "#장학혜택\n",
    "df[\"장학혜택\"]=df[\"장학혜택\"].str.replace(',',\"\")           #쉼표없애기(금액 때문)\n",
    "df[\"장학혜택(만원)\"]=df[\"장학혜택\"].str.extract(r'(\\d+)')   #숫자만남기기\n",
    "df=df.replace({\"장학혜택(만원)\":np.NaN},0)                  #NaN(미정)값 0으로 변경                   \n",
    "df=df.astype({\"장학혜택(만원)\":'int'})\n",
    "money_bins=[0,1,101,201,50000]                               #범주화   0:금액미정/1-100(만원):소/101-200(만원):중/201-50000(만원):대\n",
    "money_scale=[\"금액미정\",\"소\",\"중\",\"대\"]\n",
    "df[\"장학혜택규모\"]=pd.cut(df[\"장학혜택(만원)\"],bins=money_bins,right=False,labels=money_scale)  #분포범주화\n",
    "\n",
    "#열제거\n",
    "df=df.drop([\"장학금명\",\"신청기간\",\"조회수\",\"선발인원\",\"장학혜택\"],axis='columns')\n",
    "\n",
    "#열위치조정\n",
    "df = df.reindex(columns=[\"인덱스\",\"재단\",\"장학종류\",\"근로장학\",\"기숙사/주거지원\",\"기타장학\",\"대출지원\",\"연수/연구장학\",\"장학금\",\"취업연계/산학장학\",\"선발대상\",\"고등학생\",\"기타/일반\",\"대학생\",\"대학원생\",\"전문대생\",\"중학생\",\"청년\",\"초등학생\",\"선발 인원(명)\",\"선발인원규모\",\"장학혜택(만원)\",\"장학혜택규모\",\"조회 수\"])\n",
    "\n",
    "#csv파일저장\n",
    "df=df.to_csv('scholarship.csv',encoding = 'euc-kr')"
   ]
  },
  {
   "cell_type": "code",
   "execution_count": 19,
   "metadata": {},
   "outputs": [
    {
     "data": {
      "text/plain": [
       "인덱스             int64\n",
       "재단             object\n",
       "장학종류           object\n",
       "근로장학            int64\n",
       "기숙사/주거지원        int64\n",
       "기타장학            int64\n",
       "대출지원            int64\n",
       "연수/연구장학         int64\n",
       "장학금             int64\n",
       "취업연계/산학장학       int64\n",
       "선발대상           object\n",
       "고등학생            int64\n",
       "기타/일반           int64\n",
       "대학생             int64\n",
       "대학원생            int64\n",
       "전문대생            int64\n",
       "중학생             int64\n",
       "청년              int64\n",
       "초등학생            int64\n",
       "선발 인원(명)        int32\n",
       "선발인원규모       category\n",
       "장학혜택(만원)        int32\n",
       "장학혜택규모       category\n",
       "조회 수            int32\n",
       "dtype: object"
      ]
     },
     "execution_count": 19,
     "metadata": {},
     "output_type": "execute_result"
    }
   ],
   "source": [
    "df.dtypes"
   ]
  },
  {
   "cell_type": "code",
   "execution_count": 66,
   "metadata": {},
   "outputs": [
    {
     "name": "stdout",
     "output_type": "stream",
     "text": [
      "선발인원 기초통계량\n",
      " count     101.000000\n",
      "mean       86.326733\n",
      "std       221.647157\n",
      "min         0.000000\n",
      "25%         0.000000\n",
      "50%         7.000000\n",
      "75%        90.000000\n",
      "max      1448.000000\n",
      "Name: 선발 인원(명), dtype: float64\n"
     ]
    }
   ],
   "source": [
    "print(\"선발인원 기초통계량\\n\",df[\"선발 인원(명)\"].describe())"
   ]
  },
  {
   "cell_type": "code",
   "execution_count": 55,
   "metadata": {},
   "outputs": [
    {
     "name": "stdout",
     "output_type": "stream",
     "text": [
      "\n",
      "\n",
      "선발인원 기초통계량:\n",
      " count      58.000000\n",
      "mean      150.327586\n",
      "std       276.403048\n",
      "min         2.000000\n",
      "25%        11.000000\n",
      "50%        53.000000\n",
      "75%       136.750000\n",
      "max      1448.000000\n",
      "Name: 선발 인원(명), dtype: float64\n"
     ]
    }
   ],
   "source": [
    "df= df.replace(0, np.nan)\n",
    "df.describe().dropna()\n",
    "print('\\n')\n",
    "print(\"선발인원 기초통계량:\\n\",df[\"선발 인원(명)\"].describe())"
   ]
  },
  {
   "cell_type": "code",
   "execution_count": 62,
   "metadata": {},
   "outputs": [
    {
     "name": "stdout",
     "output_type": "stream",
     "text": [
      "장학혜택(만원) 기초통계량:\n",
      " count      64.000000\n",
      "mean      430.828125\n",
      "std       777.975957\n",
      "min        10.000000\n",
      "25%       100.000000\n",
      "50%       200.000000\n",
      "75%       400.000000\n",
      "max      5000.000000\n",
      "Name: 장학혜택(만원), dtype: float64\n"
     ]
    }
   ],
   "source": [
    "print(\"장학혜택(만원) 기초통계량:\\n\",df[\"장학혜택(만원)\"].describe())"
   ]
  },
  {
   "cell_type": "code",
   "execution_count": 57,
   "metadata": {},
   "outputs": [
    {
     "name": "stdout",
     "output_type": "stream",
     "text": [
      "\n",
      "\n",
      "선발인원 기초통계량:\n",
      " 0       14.0\n",
      "1        NaN\n",
      "2        NaN\n",
      "3      530.0\n",
      "4        NaN\n",
      "       ...  \n",
      "96     280.0\n",
      "97     149.0\n",
      "98     100.0\n",
      "99       NaN\n",
      "100      NaN\n",
      "Name: 선발 인원(명), Length: 101, dtype: float64\n"
     ]
    }
   ],
   "source": [
    "df= df.replace(0, np.nan)\n",
    "df.describe().dropna()\n",
    "print('\\n')\n",
    "print(\"선발인원 기초통계량:\\n\",df[\"선발 인원(명)\"])"
   ]
  },
  {
   "cell_type": "code",
   "execution_count": 60,
   "metadata": {},
   "outputs": [
    {
     "data": {
      "text/plain": [
       "0       14.0\n",
       "1        NaN\n",
       "2        NaN\n",
       "3      530.0\n",
       "4        NaN\n",
       "       ...  \n",
       "96     280.0\n",
       "97     149.0\n",
       "98     100.0\n",
       "99       NaN\n",
       "100      NaN\n",
       "Name: 선발 인원(명), Length: 101, dtype: float64"
      ]
     },
     "execution_count": 60,
     "metadata": {},
     "output_type": "execute_result"
    }
   ],
   "source": [
    "df= df.replace(0, np.nan)\n",
    "df.describe().dropna()\n",
    "df.loc[:, '선발 인원(명)']"
   ]
  }
 ],
 "metadata": {
  "kernelspec": {
   "display_name": "base",
   "language": "python",
   "name": "python3"
  },
  "language_info": {
   "codemirror_mode": {
    "name": "ipython",
    "version": 3
   },
   "file_extension": ".py",
   "mimetype": "text/x-python",
   "name": "python",
   "nbconvert_exporter": "python",
   "pygments_lexer": "ipython3",
   "version": "3.9.12"
  },
  "orig_nbformat": 4,
  "vscode": {
   "interpreter": {
    "hash": "59d8350d632c1aaf68822a9dfae7bdf205c349302614c6bf83548cab09e4a4c4"
   }
  }
 },
 "nbformat": 4,
 "nbformat_minor": 2
}
