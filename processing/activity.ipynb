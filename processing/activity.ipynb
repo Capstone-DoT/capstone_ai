{
 "cells": [
  {
   "cell_type": "code",
   "execution_count": 26,
   "metadata": {},
   "outputs": [],
   "source": [
    "import pandas as pd\n",
    "import numpy as np\n",
    "from sklearn.preprocessing import LabelEncoder\n",
    "import re\n",
    "encoder=LabelEncoder()\n",
    "\n",
    "#불러오기,결측값제거\n",
    "df = pd.read_csv('./activity.csv',sep=',')\n",
    "df = df.dropna()\n",
    "df=df.drop([\"company_type\",\"target\"],axis='columns')\n",
    "df.dropna(subset=[\"interests\",\"fields\"], inplace=True)\n",
    "\n",
    "#관심분야 더미변수화\n",
    "df = df.join(df[\"interests\"].str.split(', ', expand=True).stack().str.get_dummies().groupby(level=0).sum())\n",
    "\n",
    "#activity_benefit 더미변수\n",
    "df = df.join(df[\"activity_benefit\"].str.split(', ', expand=True).stack().str.get_dummies().groupby(level=0).sum())\n",
    "\n",
    "#fields 더미변수\n",
    "df['fields'] = df['fields'].replace('기타', 'fields_기타', regex=True)\n",
    "\n",
    "df = df.join(df[\"fields\"].str.split(', ', expand=True).stack().str.get_dummies().groupby(level=0).sum())\n",
    "\n",
    "#우대역량 더미변수화\n",
    "df[\"prefer\"] = df[\"prefer\"].str.replace(\", 기타\", \"\")                                                      #',기타'가 규칙없이 붙어있는경우가 많아서 삭제\n",
    "df['prefer'] = df['prefer'].replace('기타', '우대역량_기타')                                                 #'기타'열이 관심분야에도 중복됨으로 교체 \n",
    "df = df.join(df[\"prefer\"].str.split(', ', expand=True).stack().str.get_dummies().groupby(level=0).sum())\n",
    "\n",
    "#모집인원\n",
    "df[\"모집 인원\"]=df[\"recruit\"].str.extract(r'(\\d+)')     #숫자만 남기기\n",
    "df=df.replace({\"모집 인원\":'000'},'999')                #000은 세자리수를 의미함으로 999명으로 변경\n",
    "df=df.replace({\"모집 인원\":'00'},'99')                  #00은 두자리수를 의미함으로 99명으로 변경\n",
    "df=df.replace({\"모집 인원\":'0'},'9')                    #0은 힌자리수를 의미함으로 9명으로 변경\n",
    "df=df.replace({\"모집 인원\":np.NaN},0)                   #NaN(미정)값 0으로 변경\n",
    "df=df.astype({\"모집 인원\":'int'})                   \n",
    "student_bins=[0,1,21,101,50000]                        #범주화  0:인원미정/1-20(명):소/21-100(명):중/101-50000(명):대\n",
    "student_scale=[\"인원미정\",\"소\",\"중\",\"대\"]               \n",
    "df = pd.concat([df, pd.cut(df[\"모집 인원\"], bins=student_bins, right=False, labels=student_scale).rename(\"모집인원규모\")], axis=1) #분포범주화\n",
    "\n",
    "\n",
    "\n",
    "#열삭제\n",
    "df=df.drop([\"app_period\",\"activity_period\"],axis='columns')\n",
    "\n",
    "#열위치조정\n",
    "\n",
    "\n",
    "#데이터저장\n",
    "df=df.to_csv(\"activity_process.csv\")\n"
   ]
  }
 ],
 "metadata": {
  "kernelspec": {
   "display_name": "base",
   "language": "python",
   "name": "python3"
  },
  "language_info": {
   "codemirror_mode": {
    "name": "ipython",
    "version": 3
   },
   "file_extension": ".py",
   "mimetype": "text/x-python",
   "name": "python",
   "nbconvert_exporter": "python",
   "pygments_lexer": "ipython3",
   "version": "3.9.12"
  },
  "orig_nbformat": 4
 },
 "nbformat": 4,
 "nbformat_minor": 2
}
