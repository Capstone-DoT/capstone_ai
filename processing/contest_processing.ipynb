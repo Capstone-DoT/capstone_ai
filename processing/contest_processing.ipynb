{
 "cells": [
  {
   "cell_type": "code",
   "execution_count": 1,
   "metadata": {},
   "outputs": [],
   "source": [
    "import os\n",
    "import glob\n",
    "import pandas as pd\n",
    "import numpy as np\n",
    "import re\n",
    "from sklearn.preprocessing import LabelEncoder\n",
    "encoder=LabelEncoder()\n",
    "\n",
    "#불러오기,결측값제거\n",
    "df = pd.read_csv('./contest.csv',sep=',')\n",
    "df = df.dropna()\n",
    "\n",
    "#시상규모 범주분포화\n",
    "df['시상규모(만원)'] = df['prize'].apply(lambda x: (x.replace('억', '0000')))          #1억 = 10000만원으로 변경\n",
    "df[\"시상규모(만원)\"]=df[\"시상규모(만원)\"].str.extract(r'(\\d+)')                           #숫자만남기기\n",
    "df[\"시상규모(만원)\"] = df[\"시상규모(만원)\"].fillna(0).astype(int)                  #NaN(미정)값 0으로 변경                   \n",
    "df=df.astype({\"시상규모(만원)\":'int'})\n",
    "prize_bins=[0,1,251,551,280000000]                        #범주화  0:인원미정/1-560(만원):소/561-1075(만원):중/1076-280000000(만원):대\n",
    "prize_scale=[\"시상규모미정\",\"소\",\"중\",\"대\"]               \n",
    "df[\"시상 규모\"]=pd.cut(df[\"시상규모(만원)\"],bins=prize_bins,right=False,labels=prize_scale) #분포범주화\n",
    "\n",
    "\n",
    "\n",
    "#공모분야 더미변수화\n",
    "df['field'] = df['field'].replace('기타', '공모분야_기타')                                                 #'기타'열이 중복됨으로 교체 \n",
    "df = df.join(df[\"field\"].str.split('/', expand=True).stack().str.get_dummies().groupby(level=0).sum())\n",
    "\n",
    "#기업형태 더미변수화                                         \n",
    "df['company_type'] = df['company_type'].replace('기타', '기업형태_기타')                                                 #'기타'열이 중복됨으로 교체 \n",
    "df = df.join(df[\"company_type\"].str.split(', ', expand=True).stack().str.get_dummies().groupby(level=0).sum())\n",
    "\n",
    "#참여대상 더미변수화\n",
    "df = df.join(df[\"target\"].str.split(', ', expand=True).stack().str.get_dummies().groupby(level=0).sum())\n",
    "\n",
    "#활동혜택 더미변수화\n",
    "df = df.join(df[\"benefit\"].str.split(', ', expand=True).stack().str.get_dummies().groupby(level=0).sum())\n",
    "\n",
    "#열제거\n",
    "df=df.drop([\"contest_name\",\"company_name\",\"prize\",\"period\"],axis='columns')\n",
    "\n",
    "#열위치조정\n",
    "df = df.reindex(columns=[\"idx\",\"company_type\",\"공공기관/공기업\",\"기업형태_기타\",\"대기업\",\"비영리단체/협회/재단\",\n",
    "                         \"중견기업\",\"중소기업\",\"field\",\"UCC\",\"건설\",\"건축\",\"게임\",\"공모분야_기타\",\"공예\",\n",
    "                         \"공학\",\"과학\",\"광고\",\"기획\",\"네이밍\",\"디자인\",\"마케팅\",\"만화\",\"문학\",\"사진\",\"순수미술\",\n",
    "                         \"슬로건\",\"시나리오\",\"아이디어\",\"영상\",\"예체능\",\"인테리어\",\"창업\",\"캐릭터\",\"패션\",\"학술\",\n",
    "                         \"target\",\"대상 제한 없음\",\"대학생\",\"직장인/일반인\",\"청소년\",\"benefit\",\"기타\",\"상장 수여\",\"실제상용화\",\n",
    "                         \"인턴/정규직채용\",\"입사시 가산점\",\"전시기회\",\"해외연수\",\"시상규모(만원)\",\"시상 규모\"])\n",
    "\n",
    "\n",
    "#csv파일저장\n",
    "df=df.to_csv('contest_process.csv',encoding = 'euc-kr')"
   ]
  },
  {
   "cell_type": "code",
   "execution_count": 45,
   "metadata": {},
   "outputs": [
    {
     "name": "stdout",
     "output_type": "stream",
     "text": [
      "\n",
      "\n",
      "시상규모(만원) 기초통계량:\n",
      " count        139.00\n",
      "mean      202671.15\n",
      "std      2374824.55\n",
      "min           15.00\n",
      "25%          275.00\n",
      "50%          560.00\n",
      "75%         1075.00\n",
      "max     28000000.00\n",
      "Name: 시상규모(만원), dtype: float64\n"
     ]
    }
   ],
   "source": [
    "df= df.replace(0, np.nan)\n",
    "df.describe().dropna()\n",
    "print('\\n')\n",
    "print(\"시상규모(만원) 기초통계량:\\n\",df[\"시상규모(만원)\"].describe())"
   ]
  },
  {
   "cell_type": "code",
   "execution_count": 44,
   "metadata": {},
   "outputs": [
    {
     "ename": "TypeError",
     "evalue": "Cannot setitem on a Categorical with a new category (0), set the categories first",
     "output_type": "error",
     "traceback": [
      "\u001b[1;31m---------------------------------------------------------------------------\u001b[0m",
      "\u001b[1;31mTypeError\u001b[0m                                 Traceback (most recent call last)",
      "\u001b[1;32mc:\\Users\\365me\\anaconda3\\AIdev\\contest_processing.ipynb 셀 3\u001b[0m in \u001b[0;36m<cell line: 3>\u001b[1;34m()\u001b[0m\n\u001b[0;32m      <a href='vscode-notebook-cell:/c%3A/Users/365me/anaconda3/AIdev/contest_processing.ipynb#W4sZmlsZQ%3D%3D?line=0'>1</a>\u001b[0m pd\u001b[39m.\u001b[39moptions\u001b[39m.\u001b[39mdisplay\u001b[39m.\u001b[39mfloat_format \u001b[39m=\u001b[39m \u001b[39m'\u001b[39m\u001b[39m{:.2f}\u001b[39;00m\u001b[39m'\u001b[39m\u001b[39m.\u001b[39mformat\n\u001b[0;32m      <a href='vscode-notebook-cell:/c%3A/Users/365me/anaconda3/AIdev/contest_processing.ipynb#W4sZmlsZQ%3D%3D?line=1'>2</a>\u001b[0m df\u001b[39m=\u001b[39m df\u001b[39m.\u001b[39mreplace(\u001b[39m0\u001b[39m, np\u001b[39m.\u001b[39mnan)\n\u001b[1;32m----> <a href='vscode-notebook-cell:/c%3A/Users/365me/anaconda3/AIdev/contest_processing.ipynb#W4sZmlsZQ%3D%3D?line=2'>3</a>\u001b[0m df \u001b[39m=\u001b[39m df\u001b[39m.\u001b[39;49mfillna(\u001b[39m0\u001b[39;49m)  \u001b[39m# NaN 값을 0으로 채우기\u001b[39;00m\n\u001b[0;32m      <a href='vscode-notebook-cell:/c%3A/Users/365me/anaconda3/AIdev/contest_processing.ipynb#W4sZmlsZQ%3D%3D?line=3'>4</a>\u001b[0m \u001b[39mprint\u001b[39m(\u001b[39m'\u001b[39m\u001b[39m\\n\u001b[39;00m\u001b[39m'\u001b[39m)\n\u001b[0;32m      <a href='vscode-notebook-cell:/c%3A/Users/365me/anaconda3/AIdev/contest_processing.ipynb#W4sZmlsZQ%3D%3D?line=4'>5</a>\u001b[0m \u001b[39mprint\u001b[39m(\u001b[39m\"\u001b[39m\u001b[39m시상규모(만원) 기초통계량:\u001b[39m\u001b[39m\\n\u001b[39;00m\u001b[39m\"\u001b[39m,df[\u001b[39m\"\u001b[39m\u001b[39m시상규모(만원)\u001b[39m\u001b[39m\"\u001b[39m]\u001b[39m.\u001b[39mdescribe())\n",
      "File \u001b[1;32mc:\\Users\\365me\\anaconda3\\lib\\site-packages\\pandas\\util\\_decorators.py:311\u001b[0m, in \u001b[0;36mdeprecate_nonkeyword_arguments.<locals>.decorate.<locals>.wrapper\u001b[1;34m(*args, **kwargs)\u001b[0m\n\u001b[0;32m    305\u001b[0m \u001b[39mif\u001b[39;00m \u001b[39mlen\u001b[39m(args) \u001b[39m>\u001b[39m num_allow_args:\n\u001b[0;32m    306\u001b[0m     warnings\u001b[39m.\u001b[39mwarn(\n\u001b[0;32m    307\u001b[0m         msg\u001b[39m.\u001b[39mformat(arguments\u001b[39m=\u001b[39marguments),\n\u001b[0;32m    308\u001b[0m         \u001b[39mFutureWarning\u001b[39;00m,\n\u001b[0;32m    309\u001b[0m         stacklevel\u001b[39m=\u001b[39mstacklevel,\n\u001b[0;32m    310\u001b[0m     )\n\u001b[1;32m--> 311\u001b[0m \u001b[39mreturn\u001b[39;00m func(\u001b[39m*\u001b[39margs, \u001b[39m*\u001b[39m\u001b[39m*\u001b[39mkwargs)\n",
      "File \u001b[1;32mc:\\Users\\365me\\anaconda3\\lib\\site-packages\\pandas\\core\\frame.py:5220\u001b[0m, in \u001b[0;36mDataFrame.fillna\u001b[1;34m(self, value, method, axis, inplace, limit, downcast)\u001b[0m\n\u001b[0;32m   5209\u001b[0m \u001b[39m@deprecate_nonkeyword_arguments\u001b[39m(version\u001b[39m=\u001b[39m\u001b[39mNone\u001b[39;00m, allowed_args\u001b[39m=\u001b[39m[\u001b[39m\"\u001b[39m\u001b[39mself\u001b[39m\u001b[39m\"\u001b[39m, \u001b[39m\"\u001b[39m\u001b[39mvalue\u001b[39m\u001b[39m\"\u001b[39m])\n\u001b[0;32m   5210\u001b[0m \u001b[39m@doc\u001b[39m(NDFrame\u001b[39m.\u001b[39mfillna, \u001b[39m*\u001b[39m\u001b[39m*\u001b[39m_shared_doc_kwargs)\n\u001b[0;32m   5211\u001b[0m \u001b[39mdef\u001b[39;00m \u001b[39mfillna\u001b[39m(\n\u001b[1;32m   (...)\u001b[0m\n\u001b[0;32m   5218\u001b[0m     downcast\u001b[39m=\u001b[39m\u001b[39mNone\u001b[39;00m,\n\u001b[0;32m   5219\u001b[0m ) \u001b[39m-\u001b[39m\u001b[39m>\u001b[39m DataFrame \u001b[39m|\u001b[39m \u001b[39mNone\u001b[39;00m:\n\u001b[1;32m-> 5220\u001b[0m     \u001b[39mreturn\u001b[39;00m \u001b[39msuper\u001b[39;49m()\u001b[39m.\u001b[39;49mfillna(\n\u001b[0;32m   5221\u001b[0m         value\u001b[39m=\u001b[39;49mvalue,\n\u001b[0;32m   5222\u001b[0m         method\u001b[39m=\u001b[39;49mmethod,\n\u001b[0;32m   5223\u001b[0m         axis\u001b[39m=\u001b[39;49maxis,\n\u001b[0;32m   5224\u001b[0m         inplace\u001b[39m=\u001b[39;49minplace,\n\u001b[0;32m   5225\u001b[0m         limit\u001b[39m=\u001b[39;49mlimit,\n\u001b[0;32m   5226\u001b[0m         downcast\u001b[39m=\u001b[39;49mdowncast,\n\u001b[0;32m   5227\u001b[0m     )\n",
      "File \u001b[1;32mc:\\Users\\365me\\anaconda3\\lib\\site-packages\\pandas\\core\\generic.py:6496\u001b[0m, in \u001b[0;36mNDFrame.fillna\u001b[1;34m(self, value, method, axis, inplace, limit, downcast)\u001b[0m\n\u001b[0;32m   6493\u001b[0m         new_data \u001b[39m=\u001b[39m result\n\u001b[0;32m   6494\u001b[0m     \u001b[39melse\u001b[39;00m:\n\u001b[1;32m-> 6496\u001b[0m         new_data \u001b[39m=\u001b[39m \u001b[39mself\u001b[39;49m\u001b[39m.\u001b[39;49m_mgr\u001b[39m.\u001b[39;49mfillna(\n\u001b[0;32m   6497\u001b[0m             value\u001b[39m=\u001b[39;49mvalue, limit\u001b[39m=\u001b[39;49mlimit, inplace\u001b[39m=\u001b[39;49minplace, downcast\u001b[39m=\u001b[39;49mdowncast\n\u001b[0;32m   6498\u001b[0m         )\n\u001b[0;32m   6499\u001b[0m \u001b[39melif\u001b[39;00m \u001b[39misinstance\u001b[39m(value, ABCDataFrame) \u001b[39mand\u001b[39;00m \u001b[39mself\u001b[39m\u001b[39m.\u001b[39mndim \u001b[39m==\u001b[39m \u001b[39m2\u001b[39m:\n\u001b[0;32m   6501\u001b[0m     new_data \u001b[39m=\u001b[39m \u001b[39mself\u001b[39m\u001b[39m.\u001b[39mwhere(\u001b[39mself\u001b[39m\u001b[39m.\u001b[39mnotna(), value)\u001b[39m.\u001b[39m_mgr\n",
      "File \u001b[1;32mc:\\Users\\365me\\anaconda3\\lib\\site-packages\\pandas\\core\\internals\\managers.py:414\u001b[0m, in \u001b[0;36mBaseBlockManager.fillna\u001b[1;34m(self, value, limit, inplace, downcast)\u001b[0m\n\u001b[0;32m    413\u001b[0m \u001b[39mdef\u001b[39;00m \u001b[39mfillna\u001b[39m(\u001b[39mself\u001b[39m: T, value, limit, inplace: \u001b[39mbool\u001b[39m, downcast) \u001b[39m-\u001b[39m\u001b[39m>\u001b[39m T:\n\u001b[1;32m--> 414\u001b[0m     \u001b[39mreturn\u001b[39;00m \u001b[39mself\u001b[39;49m\u001b[39m.\u001b[39;49mapply(\n\u001b[0;32m    415\u001b[0m         \u001b[39m\"\u001b[39;49m\u001b[39mfillna\u001b[39;49m\u001b[39m\"\u001b[39;49m, value\u001b[39m=\u001b[39;49mvalue, limit\u001b[39m=\u001b[39;49mlimit, inplace\u001b[39m=\u001b[39;49minplace, downcast\u001b[39m=\u001b[39;49mdowncast\n\u001b[0;32m    416\u001b[0m     )\n",
      "File \u001b[1;32mc:\\Users\\365me\\anaconda3\\lib\\site-packages\\pandas\\core\\internals\\managers.py:304\u001b[0m, in \u001b[0;36mBaseBlockManager.apply\u001b[1;34m(self, f, align_keys, ignore_failures, **kwargs)\u001b[0m\n\u001b[0;32m    302\u001b[0m         applied \u001b[39m=\u001b[39m b\u001b[39m.\u001b[39mapply(f, \u001b[39m*\u001b[39m\u001b[39m*\u001b[39mkwargs)\n\u001b[0;32m    303\u001b[0m     \u001b[39melse\u001b[39;00m:\n\u001b[1;32m--> 304\u001b[0m         applied \u001b[39m=\u001b[39m \u001b[39mgetattr\u001b[39m(b, f)(\u001b[39m*\u001b[39m\u001b[39m*\u001b[39mkwargs)\n\u001b[0;32m    305\u001b[0m \u001b[39mexcept\u001b[39;00m (\u001b[39mTypeError\u001b[39;00m, \u001b[39mNotImplementedError\u001b[39;00m):\n\u001b[0;32m    306\u001b[0m     \u001b[39mif\u001b[39;00m \u001b[39mnot\u001b[39;00m ignore_failures:\n",
      "File \u001b[1;32mc:\\Users\\365me\\anaconda3\\lib\\site-packages\\pandas\\core\\internals\\blocks.py:1703\u001b[0m, in \u001b[0;36mExtensionBlock.fillna\u001b[1;34m(self, value, limit, inplace, downcast)\u001b[0m\n\u001b[0;32m   1700\u001b[0m \u001b[39mdef\u001b[39;00m \u001b[39mfillna\u001b[39m(\n\u001b[0;32m   1701\u001b[0m     \u001b[39mself\u001b[39m, value, limit\u001b[39m=\u001b[39m\u001b[39mNone\u001b[39;00m, inplace: \u001b[39mbool\u001b[39m \u001b[39m=\u001b[39m \u001b[39mFalse\u001b[39;00m, downcast\u001b[39m=\u001b[39m\u001b[39mNone\u001b[39;00m\n\u001b[0;32m   1702\u001b[0m ) \u001b[39m-\u001b[39m\u001b[39m>\u001b[39m \u001b[39mlist\u001b[39m[Block]:\n\u001b[1;32m-> 1703\u001b[0m     values \u001b[39m=\u001b[39m \u001b[39mself\u001b[39;49m\u001b[39m.\u001b[39;49mvalues\u001b[39m.\u001b[39;49mfillna(value\u001b[39m=\u001b[39;49mvalue, limit\u001b[39m=\u001b[39;49mlimit)\n\u001b[0;32m   1704\u001b[0m     \u001b[39mreturn\u001b[39;00m [\u001b[39mself\u001b[39m\u001b[39m.\u001b[39mmake_block_same_class(values\u001b[39m=\u001b[39mvalues)]\n",
      "File \u001b[1;32mc:\\Users\\365me\\anaconda3\\lib\\site-packages\\pandas\\core\\arrays\\_mixins.py:324\u001b[0m, in \u001b[0;36mNDArrayBackedExtensionArray.fillna\u001b[1;34m(self, value, method, limit)\u001b[0m\n\u001b[0;32m    321\u001b[0m     \u001b[39melse\u001b[39;00m:\n\u001b[0;32m    322\u001b[0m         \u001b[39m# fill with value\u001b[39;00m\n\u001b[0;32m    323\u001b[0m         new_values \u001b[39m=\u001b[39m \u001b[39mself\u001b[39m\u001b[39m.\u001b[39mcopy()\n\u001b[1;32m--> 324\u001b[0m         new_values[mask] \u001b[39m=\u001b[39m value\n\u001b[0;32m    325\u001b[0m \u001b[39melse\u001b[39;00m:\n\u001b[0;32m    326\u001b[0m     \u001b[39m# We validate the fill_value even if there is nothing to fill\u001b[39;00m\n\u001b[0;32m    327\u001b[0m     \u001b[39mif\u001b[39;00m value \u001b[39mis\u001b[39;00m \u001b[39mnot\u001b[39;00m \u001b[39mNone\u001b[39;00m:\n",
      "File \u001b[1;32mc:\\Users\\365me\\anaconda3\\lib\\site-packages\\pandas\\core\\arrays\\_mixins.py:249\u001b[0m, in \u001b[0;36mNDArrayBackedExtensionArray.__setitem__\u001b[1;34m(self, key, value)\u001b[0m\n\u001b[0;32m    247\u001b[0m \u001b[39mdef\u001b[39;00m \u001b[39m__setitem__\u001b[39m(\u001b[39mself\u001b[39m, key, value):\n\u001b[0;32m    248\u001b[0m     key \u001b[39m=\u001b[39m check_array_indexer(\u001b[39mself\u001b[39m, key)\n\u001b[1;32m--> 249\u001b[0m     value \u001b[39m=\u001b[39m \u001b[39mself\u001b[39;49m\u001b[39m.\u001b[39;49m_validate_setitem_value(value)\n\u001b[0;32m    250\u001b[0m     \u001b[39mself\u001b[39m\u001b[39m.\u001b[39m_ndarray[key] \u001b[39m=\u001b[39m value\n",
      "File \u001b[1;32mc:\\Users\\365me\\anaconda3\\lib\\site-packages\\pandas\\core\\arrays\\categorical.py:1457\u001b[0m, in \u001b[0;36mCategorical._validate_setitem_value\u001b[1;34m(self, value)\u001b[0m\n\u001b[0;32m   1455\u001b[0m     \u001b[39mreturn\u001b[39;00m \u001b[39mself\u001b[39m\u001b[39m.\u001b[39m_validate_listlike(value)\n\u001b[0;32m   1456\u001b[0m \u001b[39melse\u001b[39;00m:\n\u001b[1;32m-> 1457\u001b[0m     \u001b[39mreturn\u001b[39;00m \u001b[39mself\u001b[39;49m\u001b[39m.\u001b[39;49m_validate_scalar(value)\n",
      "File \u001b[1;32mc:\\Users\\365me\\anaconda3\\lib\\site-packages\\pandas\\core\\arrays\\categorical.py:1484\u001b[0m, in \u001b[0;36mCategorical._validate_scalar\u001b[1;34m(self, fill_value)\u001b[0m\n\u001b[0;32m   1482\u001b[0m     fill_value \u001b[39m=\u001b[39m \u001b[39mself\u001b[39m\u001b[39m.\u001b[39m_unbox_scalar(fill_value)\n\u001b[0;32m   1483\u001b[0m \u001b[39melse\u001b[39;00m:\n\u001b[1;32m-> 1484\u001b[0m     \u001b[39mraise\u001b[39;00m \u001b[39mTypeError\u001b[39;00m(\n\u001b[0;32m   1485\u001b[0m         \u001b[39m\"\u001b[39m\u001b[39mCannot setitem on a Categorical with a new \u001b[39m\u001b[39m\"\u001b[39m\n\u001b[0;32m   1486\u001b[0m         \u001b[39mf\u001b[39m\u001b[39m\"\u001b[39m\u001b[39mcategory (\u001b[39m\u001b[39m{\u001b[39;00mfill_value\u001b[39m}\u001b[39;00m\u001b[39m), set the categories first\u001b[39m\u001b[39m\"\u001b[39m\n\u001b[0;32m   1487\u001b[0m     )\n\u001b[0;32m   1488\u001b[0m \u001b[39mreturn\u001b[39;00m fill_value\n",
      "\u001b[1;31mTypeError\u001b[0m: Cannot setitem on a Categorical with a new category (0), set the categories first"
     ]
    }
   ],
   "source": [
    "pd.options.display.float_format = '{:.2f}'.format\n",
    "df= df.replace(0, np.nan)\n",
    "df = df.fillna(0)  # NaN 값을 0으로 채우기\n",
    "print('\\n')\n",
    "print(\"시상규모(만원) 기초통계량:\\n\",df[\"시상규모(만원)\"].describe())\n"
   ]
  }
 ],
 "metadata": {
  "kernelspec": {
   "display_name": "base",
   "language": "python",
   "name": "python3"
  },
  "language_info": {
   "codemirror_mode": {
    "name": "ipython",
    "version": 3
   },
   "file_extension": ".py",
   "mimetype": "text/x-python",
   "name": "python",
   "nbconvert_exporter": "python",
   "pygments_lexer": "ipython3",
   "version": "3.9.12"
  },
  "orig_nbformat": 4
 },
 "nbformat": 4,
 "nbformat_minor": 2
}
