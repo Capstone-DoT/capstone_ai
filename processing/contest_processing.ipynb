{
 "cells": [
  {
   "cell_type": "code",
   "execution_count": 16,
   "metadata": {},
   "outputs": [
    {
     "name": "stderr",
     "output_type": "stream",
     "text": [
      "C:\\Users\\365me\\AppData\\Local\\Temp\\ipykernel_281396\\9527536.py:10: FutureWarning: The error_bad_lines argument has been deprecated and will be removed in a future version. Use on_bad_lines in the future.\n",
      "\n",
      "\n",
      "  df = pd.read_csv('./contest.csv',sep=',', error_bad_lines=False)\n",
      "b'Skipping line 3036: expected 9 fields, saw 17\\n'\n"
     ]
    }
   ],
   "source": [
    "import os\n",
    "import glob\n",
    "import pandas as pd\n",
    "import numpy as np\n",
    "import re\n",
    "from sklearn.preprocessing import LabelEncoder\n",
    "encoder=LabelEncoder()\n",
    "\n",
    "#불러오기,결측값제거\n",
    "df = pd.read_csv('./contest.csv',sep=',', error_bad_lines=False)\n",
    "df = df.dropna()\n",
    "\n",
    "#시상규모 범주분포화\n",
    "df['시상규모(만원)'] = df['rewards'].apply(lambda x: (x.replace('억', '0000')))          #1억 = 10000만원으로 변경\n",
    "df[\"시상규모(만원)\"]=df[\"시상규모(만원)\"].str.extract(r'(\\d+)')                           #숫자만남기기\n",
    "df[\"시상규모(만원)\"] = df[\"시상규모(만원)\"].fillna(0).astype(int)                  #NaN(미정)값 0으로 변경                   \n",
    "df=df.astype({\"시상규모(만원)\":'int'})\n",
    "prize_bins=[0,1,251,551,280000000]                        #범주화  0:인원미정/1-560(만원):소/561-1075(만원):중/1076-280000000(만원):대\n",
    "prize_scale=[\"시상규모미정\",\"소\",\"중\",\"대\"]               \n",
    "df[\"시상 규모\"]=pd.cut(df[\"시상규모(만원)\"],bins=prize_bins,right=False,labels=prize_scale) #분포범주화\n",
    "\n",
    "\n",
    "\n",
    "#공모분야 더미변수화\n",
    "df['fields'] = df['fields'].replace('기타', '공모분야_기타')                                                 #'기타'열이 중복됨으로 교체 \n",
    "df = df.join(df[\"fields\"].str.split(', ', expand=True).stack().str.get_dummies().groupby(level=0).sum())\n",
    "\n",
    "#기업형태 더미변수화                                         \n",
    "df['company_type'] = df['company_type'].replace('기타', '기업형태_기타')                                                 #'기타'열이 중복됨으로 교체 \n",
    "df = df.join(df[\"company_type\"].str.split(', ', expand=True).stack().str.get_dummies().groupby(level=0).sum())\n",
    "\n",
    "#참여대상 더미변수화\n",
    "df = df.join(df[\"target\"].str.split(', ', expand=True).stack().str.get_dummies().groupby(level=0).sum())\n",
    "\n",
    "#활동혜택 더미변수화\n",
    "df[\"contest_benefit\"] = df[\"contest_benefit\"].replace('기타', 'benefit_기타',regex=True) \n",
    "df = df.join(df[\"contest_benefit\"].str.split(', ', expand=True).stack().str.get_dummies().groupby(level=0).sum())\n",
    "\n",
    "\n",
    "\n",
    "#csv파일저장\n",
    "df=df.to_csv('contest_process.csv')"
   ]
  }
 ],
 "metadata": {
  "kernelspec": {
   "display_name": "base",
   "language": "python",
   "name": "python3"
  },
  "language_info": {
   "codemirror_mode": {
    "name": "ipython",
    "version": 3
   },
   "file_extension": ".py",
   "mimetype": "text/x-python",
   "name": "python",
   "nbconvert_exporter": "python",
   "pygments_lexer": "ipython3",
   "version": "3.9.12"
  },
  "orig_nbformat": 4
 },
 "nbformat": 4,
 "nbformat_minor": 2
}
