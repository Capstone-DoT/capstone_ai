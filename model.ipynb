{
 "cells": [
  {
   "cell_type": "markdown",
   "id": "9acbe573",
   "metadata": {},
   "source": [
    "## Import"
   ]
  },
  {
   "cell_type": "code",
   "execution_count": 1,
   "id": "f16fc080",
   "metadata": {},
   "outputs": [],
   "source": [
    "import pandas as pd\n",
    "import numpy as np\n",
    "import random\n",
    "import matplotlib.pyplot as plt\n",
    "from sklearn.model_selection import train_test_split\n",
    "import warnings\n",
    "warnings.filterwarnings(action='ignore', category=UserWarning, module='gensim')\n",
    "import gensim\n",
    "assert gensim.models.word2vec.FAST_VERSION > -1\n",
    "from gensim.models import Word2Vec\n",
    "import datetime\n",
    "import requests\n",
    "import re\n",
    "from bs4 import BeautifulSoup"
   ]
  },
  {
   "cell_type": "markdown",
   "id": "291f3fbc",
   "metadata": {},
   "source": [
    "## Data 준비하기"
   ]
  },
  {
   "cell_type": "code",
   "execution_count": 50,
   "id": "41fa34d8",
   "metadata": {},
   "outputs": [
    {
     "data": {
      "text/html": [
       "<div>\n",
       "<style scoped>\n",
       "    .dataframe tbody tr th:only-of-type {\n",
       "        vertical-align: middle;\n",
       "    }\n",
       "\n",
       "    .dataframe tbody tr th {\n",
       "        vertical-align: top;\n",
       "    }\n",
       "\n",
       "    .dataframe thead th {\n",
       "        text-align: right;\n",
       "    }\n",
       "</style>\n",
       "<table border=\"1\" class=\"dataframe\">\n",
       "  <thead>\n",
       "    <tr style=\"text-align: right;\">\n",
       "      <th></th>\n",
       "      <th>Unnamed: 0</th>\n",
       "      <th>인덱스</th>\n",
       "      <th>재단</th>\n",
       "      <th>장학종류</th>\n",
       "      <th>근로장학</th>\n",
       "      <th>기숙사/주거지원</th>\n",
       "      <th>기타장학</th>\n",
       "      <th>대출지원</th>\n",
       "      <th>연수/연구장학</th>\n",
       "      <th>장학금</th>\n",
       "      <th>...</th>\n",
       "      <th>대학원생</th>\n",
       "      <th>전문대생</th>\n",
       "      <th>중학생</th>\n",
       "      <th>청년</th>\n",
       "      <th>초등학생</th>\n",
       "      <th>선발 인원(명)</th>\n",
       "      <th>선발인원규모</th>\n",
       "      <th>장학혜택(만원)</th>\n",
       "      <th>장학혜택규모</th>\n",
       "      <th>조회 수</th>\n",
       "    </tr>\n",
       "  </thead>\n",
       "  <tbody>\n",
       "    <tr>\n",
       "      <th>0</th>\n",
       "      <td>0</td>\n",
       "      <td>5858</td>\n",
       "      <td>충청남도인재육성재단</td>\n",
       "      <td>장학금, 기타장학</td>\n",
       "      <td>0</td>\n",
       "      <td>0</td>\n",
       "      <td>1</td>\n",
       "      <td>0</td>\n",
       "      <td>0</td>\n",
       "      <td>1</td>\n",
       "      <td>...</td>\n",
       "      <td>0</td>\n",
       "      <td>0</td>\n",
       "      <td>1</td>\n",
       "      <td>0</td>\n",
       "      <td>1</td>\n",
       "      <td>14</td>\n",
       "      <td>소</td>\n",
       "      <td>100</td>\n",
       "      <td>소</td>\n",
       "      <td>187</td>\n",
       "    </tr>\n",
       "    <tr>\n",
       "      <th>1</th>\n",
       "      <td>1</td>\n",
       "      <td>5859</td>\n",
       "      <td>당진시</td>\n",
       "      <td>대출지원</td>\n",
       "      <td>0</td>\n",
       "      <td>0</td>\n",
       "      <td>0</td>\n",
       "      <td>1</td>\n",
       "      <td>0</td>\n",
       "      <td>0</td>\n",
       "      <td>...</td>\n",
       "      <td>0</td>\n",
       "      <td>1</td>\n",
       "      <td>0</td>\n",
       "      <td>0</td>\n",
       "      <td>0</td>\n",
       "      <td>0</td>\n",
       "      <td>인원미정</td>\n",
       "      <td>0</td>\n",
       "      <td>금액미정</td>\n",
       "      <td>82</td>\n",
       "    </tr>\n",
       "    <tr>\n",
       "      <th>2</th>\n",
       "      <td>2</td>\n",
       "      <td>5860</td>\n",
       "      <td>안산시</td>\n",
       "      <td>장학금</td>\n",
       "      <td>0</td>\n",
       "      <td>0</td>\n",
       "      <td>0</td>\n",
       "      <td>0</td>\n",
       "      <td>0</td>\n",
       "      <td>1</td>\n",
       "      <td>...</td>\n",
       "      <td>0</td>\n",
       "      <td>1</td>\n",
       "      <td>0</td>\n",
       "      <td>0</td>\n",
       "      <td>0</td>\n",
       "      <td>0</td>\n",
       "      <td>인원미정</td>\n",
       "      <td>100</td>\n",
       "      <td>소</td>\n",
       "      <td>213</td>\n",
       "    </tr>\n",
       "  </tbody>\n",
       "</table>\n",
       "<p>3 rows × 25 columns</p>\n",
       "</div>"
      ],
      "text/plain": [
       "   Unnamed: 0   인덱스          재단       장학종류  근로장학  기숙사/주거지원  기타장학  대출지원   \n",
       "0           0  5858  충청남도인재육성재단  장학금, 기타장학     0         0     1     0  \\\n",
       "1           1  5859         당진시       대출지원     0         0     0     1   \n",
       "2           2  5860         안산시        장학금     0         0     0     0   \n",
       "\n",
       "   연수/연구장학  장학금  ...  대학원생 전문대생  중학생  청년  초등학생  선발 인원(명)  선발인원규모  장학혜택(만원)   \n",
       "0        0    1  ...     0    0    1   0     1        14       소       100  \\\n",
       "1        0    0  ...     0    1    0   0     0         0    인원미정         0   \n",
       "2        0    1  ...     0    1    0   0     0         0    인원미정       100   \n",
       "\n",
       "   장학혜택규모  조회 수  \n",
       "0       소   187  \n",
       "1    금액미정    82  \n",
       "2       소   213  \n",
       "\n",
       "[3 rows x 25 columns]"
      ]
     },
     "execution_count": 50,
     "metadata": {},
     "output_type": "execute_result"
    }
   ],
   "source": [
    "## < Data 준비하기 >\n",
    "# 데이터 읽기\n",
    "df_scholarship = pd.read_csv('scholarship.csv') # 장학금 데이터\n",
    "df_contest = pd.read_csv('contest.csv') # 공모전 데이터\n",
    "\n",
    "df_scholarship.head(3)"
   ]
  },
  {
   "cell_type": "code",
   "execution_count": 57,
   "id": "d3e7bad9",
   "metadata": {},
   "outputs": [],
   "source": [
    "## < train set, test set 만들기 >\n",
    "df_scholarship_train, df_scholarship_test = train_test_split(df_scholarship, random_state = 15688, test_size=0.30)\n",
    "# df_contest_train, df_contest_test = train_test_split(df_contest, random_state = 15688, test_size=0.30)\n",
    "\n",
    "# model input 형태: 리스트 안의 리스트 ([[], []] 형태)\n",
    "scholarship_ls = df_scholarship_train.values.tolist()"
   ]
  },
  {
   "cell_type": "markdown",
   "id": "c88002d3",
   "metadata": {},
   "source": [
    "## Model 생성 및 학습"
   ]
  },
  {
   "cell_type": "code",
   "execution_count": 60,
   "id": "f244d5a3",
   "metadata": {},
   "outputs": [],
   "source": [
    "# 모델 생성\n",
    "model = Word2Vec(sentences = scholarship_ls, # 전처리된 리스트를 파라미터로 사용\n",
    "                 epochs = 5, # epoch\n",
    "                 min_count = 2, # 2회 이상 나타나야 유지\n",
    "                 vector_size = 100, # hidden layer 사이즈\n",
    "                 sg = 1, # skip-gram을 사용하면 1\n",
    "                 hs = 0, # negative sampling을 사용하면 0\n",
    "                 negative = 5, # 0 이상일 경우 negative sampling을 사용함.\n",
    "                 window = 200)\n",
    "\n",
    "model.save('item2vec_20230407')\n",
    "\n",
    "\n",
    "# < 모델 불러오기 >\n",
    "# warnings.filterwarnings(action='ignore', category=UserWarning, module='gensim')\n",
    "\n",
    "# model = Word2Vec.load('item2vec_20230407')\n",
    "# word_vectors = model.wv"
   ]
  },
  {
   "cell_type": "code",
   "execution_count": 75,
   "id": "2a38301f",
   "metadata": {},
   "outputs": [
    {
     "name": "stdout",
     "output_type": "stream",
     "text": [
      "[0, 1, '소', '인원미정', '장학금', '금액미정', '중', '대학생', 100, '기타장학', '대', '대학생, 전문대생', '기타/일반', '기숙사/주거지원', '대학생, 대학원생', 10, '대출지원', 150, 2, 200, 20, 300, 400, 500, 50, '고등학생, 대학생', 49, '대학생, 전문대생, 대학원생', '고양시', '장학금, 기타장학', '청년, 기타/일반', 35, 86, '대학원생', 14, '충청남도인재육성재단', 187, 70, '경기도', 5, '한국장학재단', 74, 85, 90, '초등학생, 중학생, 고등학생', 82, 45, 56, 250, '농어촌희망재단', 4, 8, 18, 3, '근로장학', 15, 800, '한국고등교육재단', '경희대학교 국제캠퍼스', 80, 43, 55, 73, 24, '한국외국어대학교', '청년', 46]\n"
     ]
    }
   ],
   "source": [
    "print(list(model.wv.index_to_key))"
   ]
  },
  {
   "cell_type": "markdown",
   "id": "8dc16c28",
   "metadata": {},
   "source": [
    "## 추천"
   ]
  },
  {
   "cell_type": "code",
   "execution_count": 61,
   "id": "9415a3a6",
   "metadata": {},
   "outputs": [],
   "source": [
    "def recommender(positive_list=None, negative_list=None, topn=20):\n",
    "    recommend_scholarship_ls = []\n",
    "    \n",
    "    for scholarshipId, prob in model.wv.most_similar_cosmul(positive=positive_list, negative=negative_list, topn=topn):\n",
    "        recommend_scholarship_ls.append(scholarshipId)\n",
    "    return recommend_scholarship_ls"
   ]
  },
  {
   "cell_type": "code",
   "execution_count": 78,
   "id": "72cb0f33",
   "metadata": {},
   "outputs": [
    {
     "name": "stdout",
     "output_type": "stream",
     "text": [
      "[35, 5893, '경희대학교 국제캠퍼스', '장학금', 0, 0, 0, 0, 0, 1, 0, '대학생', 0, 0, 1, 0, 0, 0, 0, 0, 0, '인원미정', 0, '금액미정', 192]\n"
     ]
    }
   ],
   "source": [
    "test_ls = df_scholarship_train.values.tolist()\n",
    "print(test_ls[23])"
   ]
  },
  {
   "cell_type": "code",
   "execution_count": 83,
   "id": "dd3fc051",
   "metadata": {},
   "outputs": [
    {
     "name": "stdout",
     "output_type": "stream",
     "text": [
      "[0, '중', '대학생', '근로장학', 20]\n"
     ]
    }
   ],
   "source": [
    "# recommender\n",
    "# user로부터 'UP'이 검색되면 해당 검색어를 크롤링을 통해 dataset의 title값을 받아온다\n",
    "# 이후 해당 movie title 리스트를 앞에서 인코딩한 name_to_movieId 사전을 통해 movieId로 바꿔준다\n",
    "# 그리고 앞에서 정의한 모델을 통해 top-n 개의 similar한 데이터를 반환한다\n",
    "\n",
    "ls = recommender(positive_list=['대출지원'], topn=5)\n",
    "print(ls)"
   ]
  },
  {
   "cell_type": "markdown",
   "id": "e710e02e",
   "metadata": {},
   "source": [
    "## 모델 성능 평가"
   ]
  },
  {
   "cell_type": "code",
   "execution_count": null,
   "id": "48000e97",
   "metadata": {},
   "outputs": [],
   "source": [
    "# def user_liked_movies_builder(model, df, for_prediction=False):\n",
    "#     df['liked'] = np.where(df['rating'] >= 4, 1, 0)\n",
    "#     df['movieId'] = df['movieId'].astype('str')\n",
    "#     df_liked = df[df['liked'] == 1]\n",
    "#     if for_prediction:\n",
    "#         df_liked = df[df['movieId'].isin(model.wv.vocab.keys())]\n",
    "\n",
    "#     user_liked_movies = df_liked.groupby('userId').agg({'movieId': lambda x: x.tolist()})['movieId'].to_dict()\n",
    "\n",
    "#     return user_liked_movies\n",
    "\n",
    "\n",
    "# def scores_at_m(model, user_liked_movies_test, user_liked_movies_training, topn=10):\n",
    "#     sum_liked = 0\n",
    "#     sum_correct = 0\n",
    "#     sum_total = 0\n",
    "#     common_users = set(user_liked_movies_test.keys()).intersection(set(user_liked_movies_training.keys()))\n",
    "\n",
    "#     for userid in common_users:\n",
    "#         current_test_set = set(user_liked_movies_test[userid])\n",
    "#         pred = [pred_result[0] for pred_result in\n",
    "#                 model.wv.most_similar_cosmul(positive=user_liked_movies_training[userid], topn=topn)]\n",
    "#         sum_correct += len(set(pred).intersection(current_test_set))\n",
    "#         sum_liked += len(current_test_set)\n",
    "#     precision_at_m = sum_correct / (topn * len(common_users))\n",
    "#     recall_at_m = sum_correct / sum_liked\n",
    "#     f1 = 2 / ((1 / precision_at_m) + (1 / recall_at_m))\n",
    "#     return [precision_at_m, recall_at_m, f1]\n",
    "\n",
    "# pd.options.mode.chained_assignment = None\n",
    "# user_liked_movies_train = user_liked_movies_builder(model, df_ratings_train, for_prediction=True)\n",
    "# user_liked_movies_test = user_liked_movies_builder(model, df_ratings_test)\n",
    "\n",
    "# model = Word2Vec.load('item2vec_20230407')\n",
    "# model_score_sg1 = scores_at_m(model, user_liked_movies_test, user_liked_movies_train)\n",
    "# del model\n",
    "\n",
    "# print(\"Respectively, the [precision, recall, F-1 score] at 10 for our model are:\")\n",
    "# print(model_score_sg1)"
   ]
  }
 ],
 "metadata": {
  "kernelspec": {
   "display_name": "Python 3 (ipykernel)",
   "language": "python",
   "name": "python3"
  },
  "language_info": {
   "codemirror_mode": {
    "name": "ipython",
    "version": 3
   },
   "file_extension": ".py",
   "mimetype": "text/x-python",
   "name": "python",
   "nbconvert_exporter": "python",
   "pygments_lexer": "ipython3",
   "version": "3.8.15"
  }
 },
 "nbformat": 4,
 "nbformat_minor": 5
}
