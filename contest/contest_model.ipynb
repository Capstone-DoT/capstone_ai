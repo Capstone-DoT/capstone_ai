{
 "cells": [
  {
   "cell_type": "markdown",
   "id": "9833ff7f",
   "metadata": {},
   "source": [
    "# import"
   ]
  },
  {
   "cell_type": "code",
   "execution_count": 240,
   "id": "13ef4290",
   "metadata": {},
   "outputs": [],
   "source": [
    "import pandas as pd\n",
    "import numpy as np\n",
    "import random\n",
    "import matplotlib.pyplot as plt\n",
    "from sklearn.model_selection import train_test_split\n",
    "import warnings\n",
    "warnings.filterwarnings(action='ignore', category=UserWarning, module='gensim')\n",
    "import gensim\n",
    "assert gensim.models.word2vec.FAST_VERSION > -1\n",
    "from gensim.models import Word2Vec\n",
    "import datetime\n",
    "import requests\n",
    "import re\n",
    "from bs4 import BeautifulSoup"
   ]
  },
  {
   "cell_type": "markdown",
   "id": "0785b54d",
   "metadata": {},
   "source": [
    "# Data 준비하기"
   ]
  },
  {
   "cell_type": "code",
   "execution_count": 244,
   "id": "da438db3",
   "metadata": {
    "scrolled": false
   },
   "outputs": [
    {
     "data": {
      "text/html": [
       "<div>\n",
       "<style scoped>\n",
       "    .dataframe tbody tr th:only-of-type {\n",
       "        vertical-align: middle;\n",
       "    }\n",
       "\n",
       "    .dataframe tbody tr th {\n",
       "        vertical-align: top;\n",
       "    }\n",
       "\n",
       "    .dataframe thead th {\n",
       "        text-align: right;\n",
       "    }\n",
       "</style>\n",
       "<table border=\"1\" class=\"dataframe\">\n",
       "  <thead>\n",
       "    <tr style=\"text-align: right;\">\n",
       "      <th></th>\n",
       "      <th>Unnamed: 0</th>\n",
       "      <th>idx</th>\n",
       "      <th>contest_name</th>\n",
       "      <th>company_name</th>\n",
       "      <th>company_type</th>\n",
       "      <th>공공기관/공기업</th>\n",
       "      <th>기업형태_기타</th>\n",
       "      <th>대기업</th>\n",
       "      <th>비영리단체/협회/재단</th>\n",
       "      <th>중견기업</th>\n",
       "      <th>...</th>\n",
       "      <th>benefit</th>\n",
       "      <th>기타</th>\n",
       "      <th>상장 수여</th>\n",
       "      <th>실제상용화</th>\n",
       "      <th>인턴/정규직채용</th>\n",
       "      <th>입사시 가산점</th>\n",
       "      <th>전시기회</th>\n",
       "      <th>해외연수</th>\n",
       "      <th>시상규모(만원)</th>\n",
       "      <th>시상 규모</th>\n",
       "    </tr>\n",
       "  </thead>\n",
       "  <tbody>\n",
       "    <tr>\n",
       "      <th>0</th>\n",
       "      <td>0</td>\n",
       "      <td>80219</td>\n",
       "      <td>제11회 백년서평 공모</td>\n",
       "      <td>백년어서원</td>\n",
       "      <td>기업형태_기타</td>\n",
       "      <td>0</td>\n",
       "      <td>1</td>\n",
       "      <td>0</td>\n",
       "      <td>0</td>\n",
       "      <td>0</td>\n",
       "      <td>...</td>\n",
       "      <td>기타</td>\n",
       "      <td>1</td>\n",
       "      <td>0</td>\n",
       "      <td>0</td>\n",
       "      <td>0</td>\n",
       "      <td>0</td>\n",
       "      <td>0</td>\n",
       "      <td>0</td>\n",
       "      <td>95</td>\n",
       "      <td>소</td>\n",
       "    </tr>\n",
       "    <tr>\n",
       "      <th>1</th>\n",
       "      <td>1</td>\n",
       "      <td>80272</td>\n",
       "      <td>[문체부] 2022 문화 체육 관광 분야 사회적경제기업 우수사례 발굴 공모전 (~3...</td>\n",
       "      <td>(주)필더필컴퍼니</td>\n",
       "      <td>기업형태_기타</td>\n",
       "      <td>0</td>\n",
       "      <td>1</td>\n",
       "      <td>0</td>\n",
       "      <td>0</td>\n",
       "      <td>0</td>\n",
       "      <td>...</td>\n",
       "      <td>기타, 상장 수여</td>\n",
       "      <td>1</td>\n",
       "      <td>1</td>\n",
       "      <td>0</td>\n",
       "      <td>0</td>\n",
       "      <td>0</td>\n",
       "      <td>0</td>\n",
       "      <td>0</td>\n",
       "      <td>1100</td>\n",
       "      <td>대</td>\n",
       "    </tr>\n",
       "    <tr>\n",
       "      <th>2</th>\n",
       "      <td>2</td>\n",
       "      <td>80296</td>\n",
       "      <td>제 4회 멸종위기야생생물 상상그림 및 상상뉴스 공모전(~3/11)</td>\n",
       "      <td>스펙토리</td>\n",
       "      <td>공공기관/공기업</td>\n",
       "      <td>1</td>\n",
       "      <td>0</td>\n",
       "      <td>0</td>\n",
       "      <td>0</td>\n",
       "      <td>0</td>\n",
       "      <td>...</td>\n",
       "      <td>기타, 상장 수여</td>\n",
       "      <td>1</td>\n",
       "      <td>1</td>\n",
       "      <td>0</td>\n",
       "      <td>0</td>\n",
       "      <td>0</td>\n",
       "      <td>0</td>\n",
       "      <td>0</td>\n",
       "      <td>340</td>\n",
       "      <td>중</td>\n",
       "    </tr>\n",
       "    <tr>\n",
       "      <th>3</th>\n",
       "      <td>3</td>\n",
       "      <td>80314</td>\n",
       "      <td>LG유플러스 아이들나라 창작 그림책 공모전</td>\n",
       "      <td>LG유플러스, 교보문고, 한국그림책출판협회, 보림출판사</td>\n",
       "      <td>대기업</td>\n",
       "      <td>0</td>\n",
       "      <td>0</td>\n",
       "      <td>1</td>\n",
       "      <td>0</td>\n",
       "      <td>0</td>\n",
       "      <td>...</td>\n",
       "      <td>기타</td>\n",
       "      <td>1</td>\n",
       "      <td>0</td>\n",
       "      <td>0</td>\n",
       "      <td>0</td>\n",
       "      <td>0</td>\n",
       "      <td>0</td>\n",
       "      <td>0</td>\n",
       "      <td>10000</td>\n",
       "      <td>대</td>\n",
       "    </tr>\n",
       "    <tr>\n",
       "      <th>4</th>\n",
       "      <td>4</td>\n",
       "      <td>80341</td>\n",
       "      <td>[인턴연계] 2022년 인천e음 배달서비스 홍보 영상 공모전</td>\n",
       "      <td>코나아이(주)</td>\n",
       "      <td>중견기업</td>\n",
       "      <td>0</td>\n",
       "      <td>0</td>\n",
       "      <td>0</td>\n",
       "      <td>0</td>\n",
       "      <td>1</td>\n",
       "      <td>...</td>\n",
       "      <td>인턴/정규직채용</td>\n",
       "      <td>0</td>\n",
       "      <td>0</td>\n",
       "      <td>0</td>\n",
       "      <td>1</td>\n",
       "      <td>0</td>\n",
       "      <td>0</td>\n",
       "      <td>0</td>\n",
       "      <td>450</td>\n",
       "      <td>중</td>\n",
       "    </tr>\n",
       "  </tbody>\n",
       "</table>\n",
       "<p>5 rows × 54 columns</p>\n",
       "</div>"
      ],
      "text/plain": [
       "   Unnamed: 0    idx                                       contest_name  \\\n",
       "0           0  80219                                       제11회 백년서평 공모   \n",
       "1           1  80272  [문체부] 2022 문화 체육 관광 분야 사회적경제기업 우수사례 발굴 공모전 (~3...   \n",
       "2           2  80296               제 4회 멸종위기야생생물 상상그림 및 상상뉴스 공모전(~3/11)   \n",
       "3           3  80314                            LG유플러스 아이들나라 창작 그림책 공모전   \n",
       "4           4  80341                  [인턴연계] 2022년 인천e음 배달서비스 홍보 영상 공모전   \n",
       "\n",
       "                     company_name company_type  공공기관/공기업  기업형태_기타  대기업  \\\n",
       "0                           백년어서원      기업형태_기타         0        1    0   \n",
       "1                       (주)필더필컴퍼니      기업형태_기타         0        1    0   \n",
       "2                            스펙토리     공공기관/공기업         1        0    0   \n",
       "3  LG유플러스, 교보문고, 한국그림책출판협회, 보림출판사          대기업         0        0    1   \n",
       "4                         코나아이(주)         중견기업         0        0    0   \n",
       "\n",
       "   비영리단체/협회/재단  중견기업  ...    benefit 기타  상장 수여  실제상용화  인턴/정규직채용  입사시 가산점  \\\n",
       "0            0     0  ...         기타  1      0      0         0        0   \n",
       "1            0     0  ...  기타, 상장 수여  1      1      0         0        0   \n",
       "2            0     0  ...  기타, 상장 수여  1      1      0         0        0   \n",
       "3            0     0  ...         기타  1      0      0         0        0   \n",
       "4            0     1  ...   인턴/정규직채용  0      0      0         1        0   \n",
       "\n",
       "   전시기회  해외연수  시상규모(만원)  시상 규모  \n",
       "0     0     0        95      소  \n",
       "1     0     0      1100      대  \n",
       "2     0     0       340      중  \n",
       "3     0     0     10000      대  \n",
       "4     0     0       450      중  \n",
       "\n",
       "[5 rows x 54 columns]"
      ]
     },
     "execution_count": 244,
     "metadata": {},
     "output_type": "execute_result"
    }
   ],
   "source": [
    "df_contest = pd.read_csv('contest_process.csv') # 대외활동 데이터\n",
    "id_to_name = pd.Series(df_contest.company_name.values, index = df_contest.idx.values)\n",
    "name_to_id = pd.Series(df_contest.idx.values, index = df_contest.company_name).to_dict()\n",
    "\n",
    "\n",
    "df_contest.head(5)"
   ]
  },
  {
   "cell_type": "markdown",
   "id": "4aa50b23",
   "metadata": {},
   "source": [
    "# 필요없는 열제거"
   ]
  },
  {
   "cell_type": "code",
   "execution_count": 245,
   "id": "fd7f489d",
   "metadata": {},
   "outputs": [
    {
     "data": {
      "text/html": [
       "<div>\n",
       "<style scoped>\n",
       "    .dataframe tbody tr th:only-of-type {\n",
       "        vertical-align: middle;\n",
       "    }\n",
       "\n",
       "    .dataframe tbody tr th {\n",
       "        vertical-align: top;\n",
       "    }\n",
       "\n",
       "    .dataframe thead th {\n",
       "        text-align: right;\n",
       "    }\n",
       "</style>\n",
       "<table border=\"1\" class=\"dataframe\">\n",
       "  <thead>\n",
       "    <tr style=\"text-align: right;\">\n",
       "      <th></th>\n",
       "      <th>idx</th>\n",
       "      <th>contest_name</th>\n",
       "      <th>company_name</th>\n",
       "      <th>공공기관/공기업</th>\n",
       "      <th>기업형태_기타</th>\n",
       "      <th>대기업</th>\n",
       "      <th>비영리단체/협회/재단</th>\n",
       "      <th>중견기업</th>\n",
       "      <th>중소기업</th>\n",
       "      <th>UCC</th>\n",
       "      <th>...</th>\n",
       "      <th>직장인/일반인</th>\n",
       "      <th>청소년</th>\n",
       "      <th>기타</th>\n",
       "      <th>상장 수여</th>\n",
       "      <th>실제상용화</th>\n",
       "      <th>인턴/정규직채용</th>\n",
       "      <th>입사시 가산점</th>\n",
       "      <th>전시기회</th>\n",
       "      <th>해외연수</th>\n",
       "      <th>시상 규모</th>\n",
       "    </tr>\n",
       "  </thead>\n",
       "  <tbody>\n",
       "    <tr>\n",
       "      <th>0</th>\n",
       "      <td>80219</td>\n",
       "      <td>제11회 백년서평 공모</td>\n",
       "      <td>백년어서원</td>\n",
       "      <td>0</td>\n",
       "      <td>1</td>\n",
       "      <td>0</td>\n",
       "      <td>0</td>\n",
       "      <td>0</td>\n",
       "      <td>0</td>\n",
       "      <td>0</td>\n",
       "      <td>...</td>\n",
       "      <td>1</td>\n",
       "      <td>0</td>\n",
       "      <td>1</td>\n",
       "      <td>0</td>\n",
       "      <td>0</td>\n",
       "      <td>0</td>\n",
       "      <td>0</td>\n",
       "      <td>0</td>\n",
       "      <td>0</td>\n",
       "      <td>소</td>\n",
       "    </tr>\n",
       "    <tr>\n",
       "      <th>1</th>\n",
       "      <td>80272</td>\n",
       "      <td>[문체부] 2022 문화 체육 관광 분야 사회적경제기업 우수사례 발굴 공모전 (~3...</td>\n",
       "      <td>(주)필더필컴퍼니</td>\n",
       "      <td>0</td>\n",
       "      <td>1</td>\n",
       "      <td>0</td>\n",
       "      <td>0</td>\n",
       "      <td>0</td>\n",
       "      <td>0</td>\n",
       "      <td>0</td>\n",
       "      <td>...</td>\n",
       "      <td>1</td>\n",
       "      <td>0</td>\n",
       "      <td>1</td>\n",
       "      <td>1</td>\n",
       "      <td>0</td>\n",
       "      <td>0</td>\n",
       "      <td>0</td>\n",
       "      <td>0</td>\n",
       "      <td>0</td>\n",
       "      <td>대</td>\n",
       "    </tr>\n",
       "    <tr>\n",
       "      <th>2</th>\n",
       "      <td>80296</td>\n",
       "      <td>제 4회 멸종위기야생생물 상상그림 및 상상뉴스 공모전(~3/11)</td>\n",
       "      <td>스펙토리</td>\n",
       "      <td>1</td>\n",
       "      <td>0</td>\n",
       "      <td>0</td>\n",
       "      <td>0</td>\n",
       "      <td>0</td>\n",
       "      <td>0</td>\n",
       "      <td>0</td>\n",
       "      <td>...</td>\n",
       "      <td>0</td>\n",
       "      <td>1</td>\n",
       "      <td>1</td>\n",
       "      <td>1</td>\n",
       "      <td>0</td>\n",
       "      <td>0</td>\n",
       "      <td>0</td>\n",
       "      <td>0</td>\n",
       "      <td>0</td>\n",
       "      <td>중</td>\n",
       "    </tr>\n",
       "  </tbody>\n",
       "</table>\n",
       "<p>3 rows × 48 columns</p>\n",
       "</div>"
      ],
      "text/plain": [
       "     idx                                       contest_name company_name  \\\n",
       "0  80219                                       제11회 백년서평 공모        백년어서원   \n",
       "1  80272  [문체부] 2022 문화 체육 관광 분야 사회적경제기업 우수사례 발굴 공모전 (~3...    (주)필더필컴퍼니   \n",
       "2  80296               제 4회 멸종위기야생생물 상상그림 및 상상뉴스 공모전(~3/11)         스펙토리   \n",
       "\n",
       "   공공기관/공기업  기업형태_기타  대기업  비영리단체/협회/재단  중견기업  중소기업  UCC  ...  직장인/일반인  청소년  \\\n",
       "0         0        1    0            0     0     0    0  ...        1    0   \n",
       "1         0        1    0            0     0     0    0  ...        1    0   \n",
       "2         1        0    0            0     0     0    0  ...        0    1   \n",
       "\n",
       "   기타  상장 수여  실제상용화  인턴/정규직채용  입사시 가산점  전시기회  해외연수  시상 규모  \n",
       "0   1      0      0         0        0     0     0      소  \n",
       "1   1      1      0         0        0     0     0      대  \n",
       "2   1      1      0         0        0     0     0      중  \n",
       "\n",
       "[3 rows x 48 columns]"
      ]
     },
     "execution_count": 245,
     "metadata": {},
     "output_type": "execute_result"
    }
   ],
   "source": [
    "df_contest=df_contest.drop([\"시상규모(만원)\"],axis='columns')\n",
    "df_contest=df_contest.drop([\"Unnamed: 0\"],axis='columns')\n",
    "df_contest=df_contest.drop([\"company_type\"],axis='columns')\n",
    "df_contest=df_contest.drop([\"benefit\"],axis='columns')\n",
    "df_contest=df_contest.drop([\"field\"],axis='columns')\n",
    "df_contest=df_contest.drop([\"target\"],axis='columns')\n",
    "df_contest.head(3)"
   ]
  },
  {
   "cell_type": "markdown",
   "id": "9611d717",
   "metadata": {},
   "source": [
    "# train set, test set 분리"
   ]
  },
  {
   "cell_type": "code",
   "execution_count": 246,
   "id": "8989051f",
   "metadata": {},
   "outputs": [],
   "source": [
    "df_contest_train, df_contest_test = train_test_split(df_contest, random_state = 15688, test_size=0.30)\n",
    "\n"
   ]
  },
  {
   "cell_type": "code",
   "execution_count": 247,
   "id": "231ece5f",
   "metadata": {},
   "outputs": [
    {
     "data": {
      "text/html": [
       "<div>\n",
       "<style scoped>\n",
       "    .dataframe tbody tr th:only-of-type {\n",
       "        vertical-align: middle;\n",
       "    }\n",
       "\n",
       "    .dataframe tbody tr th {\n",
       "        vertical-align: top;\n",
       "    }\n",
       "\n",
       "    .dataframe thead th {\n",
       "        text-align: right;\n",
       "    }\n",
       "</style>\n",
       "<table border=\"1\" class=\"dataframe\">\n",
       "  <thead>\n",
       "    <tr style=\"text-align: right;\">\n",
       "      <th></th>\n",
       "      <th>idx</th>\n",
       "      <th>contest_name</th>\n",
       "      <th>company_name</th>\n",
       "      <th>공공기관/공기업</th>\n",
       "      <th>기업형태_기타</th>\n",
       "      <th>대기업</th>\n",
       "      <th>비영리단체/협회/재단</th>\n",
       "      <th>중견기업</th>\n",
       "      <th>중소기업</th>\n",
       "      <th>UCC</th>\n",
       "      <th>...</th>\n",
       "      <th>직장인/일반인</th>\n",
       "      <th>청소년</th>\n",
       "      <th>기타</th>\n",
       "      <th>상장 수여</th>\n",
       "      <th>실제상용화</th>\n",
       "      <th>인턴/정규직채용</th>\n",
       "      <th>입사시 가산점</th>\n",
       "      <th>전시기회</th>\n",
       "      <th>해외연수</th>\n",
       "      <th>시상 규모</th>\n",
       "    </tr>\n",
       "  </thead>\n",
       "  <tbody>\n",
       "    <tr>\n",
       "      <th>1122</th>\n",
       "      <td>91354</td>\n",
       "      <td>웨스턴디지털 Show Your WD 영상 공모전</td>\n",
       "      <td>주식회사 메이캔</td>\n",
       "      <td>0</td>\n",
       "      <td>0</td>\n",
       "      <td>0</td>\n",
       "      <td>0</td>\n",
       "      <td>0</td>\n",
       "      <td>0</td>\n",
       "      <td>1</td>\n",
       "      <td>...</td>\n",
       "      <td>0</td>\n",
       "      <td>0</td>\n",
       "      <td>0</td>\n",
       "      <td>1</td>\n",
       "      <td>0</td>\n",
       "      <td>0</td>\n",
       "      <td>0</td>\n",
       "      <td>0</td>\n",
       "      <td>0</td>\n",
       "      <td>소</td>\n",
       "    </tr>\n",
       "    <tr>\n",
       "      <th>1004</th>\n",
       "      <td>90403</td>\n",
       "      <td>2022 안산의 책 독서감상작 전국 공모전</td>\n",
       "      <td>안산 중앙도서관</td>\n",
       "      <td>1</td>\n",
       "      <td>0</td>\n",
       "      <td>0</td>\n",
       "      <td>0</td>\n",
       "      <td>0</td>\n",
       "      <td>0</td>\n",
       "      <td>0</td>\n",
       "      <td>...</td>\n",
       "      <td>0</td>\n",
       "      <td>0</td>\n",
       "      <td>1</td>\n",
       "      <td>0</td>\n",
       "      <td>0</td>\n",
       "      <td>0</td>\n",
       "      <td>0</td>\n",
       "      <td>0</td>\n",
       "      <td>0</td>\n",
       "      <td>소</td>\n",
       "    </tr>\n",
       "    <tr>\n",
       "      <th>1146</th>\n",
       "      <td>91568</td>\n",
       "      <td>제2회 뮤튜브 영상 공모전</td>\n",
       "      <td>숭실대학교 한국기독교박물관</td>\n",
       "      <td>0</td>\n",
       "      <td>1</td>\n",
       "      <td>0</td>\n",
       "      <td>0</td>\n",
       "      <td>0</td>\n",
       "      <td>0</td>\n",
       "      <td>1</td>\n",
       "      <td>...</td>\n",
       "      <td>0</td>\n",
       "      <td>0</td>\n",
       "      <td>1</td>\n",
       "      <td>0</td>\n",
       "      <td>0</td>\n",
       "      <td>0</td>\n",
       "      <td>0</td>\n",
       "      <td>0</td>\n",
       "      <td>0</td>\n",
       "      <td>중</td>\n",
       "    </tr>\n",
       "  </tbody>\n",
       "</table>\n",
       "<p>3 rows × 48 columns</p>\n",
       "</div>"
      ],
      "text/plain": [
       "        idx                contest_name    company_name  공공기관/공기업  기업형태_기타  \\\n",
       "1122  91354  웨스턴디지털 Show Your WD 영상 공모전        주식회사 메이캔         0        0   \n",
       "1004  90403     2022 안산의 책 독서감상작 전국 공모전        안산 중앙도서관         1        0   \n",
       "1146  91568              제2회 뮤튜브 영상 공모전  숭실대학교 한국기독교박물관         0        1   \n",
       "\n",
       "      대기업  비영리단체/협회/재단  중견기업  중소기업  UCC  ...  직장인/일반인  청소년  기타  상장 수여  실제상용화  \\\n",
       "1122    0            0     0     0    1  ...        0    0   0      1      0   \n",
       "1004    0            0     0     0    0  ...        0    0   1      0      0   \n",
       "1146    0            0     0     0    1  ...        0    0   1      0      0   \n",
       "\n",
       "      인턴/정규직채용  입사시 가산점  전시기회  해외연수  시상 규모  \n",
       "1122         0        0     0     0      소  \n",
       "1004         0        0     0     0      소  \n",
       "1146         0        0     0     0      중  \n",
       "\n",
       "[3 rows x 48 columns]"
      ]
     },
     "execution_count": 247,
     "metadata": {},
     "output_type": "execute_result"
    }
   ],
   "source": [
    "df_contest_train.head(3)"
   ]
  },
  {
   "cell_type": "markdown",
   "id": "068327d8",
   "metadata": {},
   "source": [
    "# 같은 대외활동끼리 묶기"
   ]
  },
  {
   "cell_type": "code",
   "execution_count": 251,
   "id": "dee48875",
   "metadata": {},
   "outputs": [],
   "source": [
    "# 비교할 때 제외할 열들의 이름 리스트\n",
    "def data_splitter(df):\n",
    "    exclude_cols = ['idx','contest_name', 'company_name']\n",
    "\n",
    "    grouped_cols = [col for col in df_contest.columns if col not in exclude_cols]  # 제외할 열을 제외한 열들의 리스트\n",
    "\n",
    "    df_grouped = df_contest.groupby(grouped_cols).apply(lambda x: x.idx.tolist())\n",
    "    \n",
    "    # 결과값을 str 타입으로 저장한 이중 배열\n",
    "    array_of_groups = df_grouped.apply(lambda x: [str(val) for val in x]).tolist()\n",
    "    return array_of_groups"
   ]
  },
  {
   "cell_type": "code",
   "execution_count": 252,
   "id": "a5250879",
   "metadata": {},
   "outputs": [],
   "source": [
    "pd.options.mode.chained_assignment = None\n",
    "contest_ls = data_splitter(df_contest_train)"
   ]
  },
  {
   "cell_type": "markdown",
   "id": "64bcbd50",
   "metadata": {},
   "source": [
    "# 데이터 랜덤으로 섞고, 유효한 데이터 골라내기"
   ]
  },
  {
   "cell_type": "code",
   "execution_count": 253,
   "id": "d043580d",
   "metadata": {},
   "outputs": [],
   "source": [
    "for contest in contest_ls:\n",
    "    random.shuffle(contest)"
   ]
  },
  {
   "cell_type": "code",
   "execution_count": 254,
   "id": "e0bdbe81",
   "metadata": {},
   "outputs": [],
   "source": [
    "filtered_array = [group for group in contest_ls if len(group) > 1]"
   ]
  },
  {
   "cell_type": "code",
   "execution_count": 255,
   "id": "a9c322d7",
   "metadata": {},
   "outputs": [
    {
     "data": {
      "text/plain": [
       "595"
      ]
     },
     "execution_count": 255,
     "metadata": {},
     "output_type": "execute_result"
    }
   ],
   "source": [
    "len(filtered_array)"
   ]
  },
  {
   "cell_type": "markdown",
   "id": "ebe4d1fd",
   "metadata": {},
   "source": [
    "# Model 생성 및 학습"
   ]
  },
  {
   "cell_type": "code",
   "execution_count": 273,
   "id": "08a6e7de",
   "metadata": {},
   "outputs": [],
   "source": [
    "model = Word2Vec(\n",
    "    sentences = filtered_array, # 전처리된 리스트를 파라미터로 사용\n",
    "    epochs = 70, # epoch\n",
    "    min_count = 1, # \n",
    "    vector_size = 100, # hidden layer 사이즈\n",
    "    sg = 1, # skip-gram을 사용하면 1\n",
    "    hs = 0, # negative sampling을 사용하면 0\n",
    "    negative = 5, # 0 이상일 경우 negative sampling을 사용함.\n",
    "    window=5,  # 주변 단어 창 크기\n",
    "    workers=4  # 사용할 CPU 스레드 수\n",
    ")\n",
    "\n",
    "model.save('item2vec_contest')"
   ]
  },
  {
   "cell_type": "code",
   "execution_count": 274,
   "id": "662e9999",
   "metadata": {},
   "outputs": [],
   "source": [
    "warnings.filterwarnings(action='ignore', category=UserWarning, module='gensim')\n",
    "model = Word2Vec.load('item2vec_contest')\n",
    "word_vectors = model.wv"
   ]
  },
  {
   "cell_type": "markdown",
   "id": "81e8b92a",
   "metadata": {},
   "source": [
    "# 추천"
   ]
  },
  {
   "cell_type": "code",
   "execution_count": 260,
   "id": "34137eaf",
   "metadata": {},
   "outputs": [],
   "source": [
    "def recommender(positive_list=None, negative_list=None, topn=20):\n",
    "    recommend_contest_ls = []\n",
    "    \n",
    "    for contestId, prob in model.wv.most_similar_cosmul(positive=positive_list, negative=negative_list, topn=topn):\n",
    "        recommend_contest_ls.append(contestId)\n",
    "    return recommend_contest_ls"
   ]
  },
  {
   "cell_type": "code",
   "execution_count": 261,
   "id": "924b42a8",
   "metadata": {},
   "outputs": [
    {
     "name": "stdout",
     "output_type": "stream",
     "text": [
      "[105084, 97930, 100310, 85869, 109079]\n"
     ]
    }
   ],
   "source": [
    "reco = [80826]\n",
    "reco_str = [str(num) for num in reco]\n",
    "recommandations = recommender(positive_list=reco_str, topn=5)\n",
    "reco_int = [int(value) for value in recommandations] # str -> int\n",
    "print(reco_int)"
   ]
  },
  {
   "cell_type": "code",
   "execution_count": 262,
   "id": "a1a03aa3",
   "metadata": {},
   "outputs": [
    {
     "name": "stdout",
     "output_type": "stream",
     "text": [
      "['KTV 한국정책방송원']\n"
     ]
    }
   ],
   "source": [
    "# 입력 데이터\n",
    "filtered_activity_names = df_activity.loc[df_activity['idx'].isin(reco), 'company_name'].tolist()\n",
    "print(filtered_activity_names)"
   ]
  },
  {
   "cell_type": "code",
   "execution_count": 263,
   "id": "6e1a170a",
   "metadata": {},
   "outputs": [
    {
     "name": "stdout",
     "output_type": "stream",
     "text": [
      "['정선군 / 오마이필름', '국립공원공단', '구미시청', '통일부 / 모두를위한극장 공정영화협동조합', '울산광역시 북구']\n"
     ]
    }
   ],
   "source": [
    "# 출력 데이터\n",
    "filtered_activity_names = df_activity.loc[df_activity['idx'].isin(reco_int), 'company_name'].tolist()\n",
    "print(filtered_activity_names)"
   ]
  },
  {
   "cell_type": "code",
   "execution_count": 265,
   "id": "55053a3f",
   "metadata": {},
   "outputs": [
    {
     "name": "stdout",
     "output_type": "stream",
     "text": [
      "[('105084', 0.9967342615127563), ('97930', 0.9966229796409607), ('100310', 0.9965788722038269), ('85869', 0.9961397051811218), ('109079', 0.9959255456924438), ('101189', 0.9955222606658936), ('86666', 0.9953718185424805), ('99870', 0.994710385799408), ('104191', 0.9941415786743164), ('104435', 0.9931982755661011)]\n"
     ]
    }
   ],
   "source": [
    "print(model.wv.most_similar([\"80826\"]))"
   ]
  },
  {
   "cell_type": "code",
   "execution_count": null,
   "id": "02f9e2b6",
   "metadata": {},
   "outputs": [],
   "source": []
  }
 ],
 "metadata": {
  "kernelspec": {
   "display_name": "Python 3 (ipykernel)",
   "language": "python",
   "name": "python3"
  },
  "language_info": {
   "codemirror_mode": {
    "name": "ipython",
    "version": 3
   },
   "file_extension": ".py",
   "mimetype": "text/x-python",
   "name": "python",
   "nbconvert_exporter": "python",
   "pygments_lexer": "ipython3",
   "version": "3.9.12"
  }
 },
 "nbformat": 4,
 "nbformat_minor": 5
}
